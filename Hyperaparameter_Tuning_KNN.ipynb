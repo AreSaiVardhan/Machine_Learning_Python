{
 "cells": [
  {
   "cell_type": "code",
   "execution_count": null,
   "id": "06edd2c6-c6cf-4b66-9591-f58509280ef1",
   "metadata": {},
   "outputs": [],
   "source": [
    "# class sklearn.neighbors.KNeighborsClassifier(n_neighbors=5, *, weights='uniform', \n",
    "#                                              algorithm='auto', leaf_size=30, p=2,  \n",
    "#                                              metric='minkowski', metric_params=None, \n",
    "#                                              n_jobs=None)[source]\n",
    "\n",
    "#use n_neighbors=[5,10,15,20], \n",
    " #       weights=['uniform','distance']\n",
    "  #       p=[1,2]"
   ]
  },
  {
   "cell_type": "markdown",
   "id": "2474c6c5-673e-43de-b023-16820cf52856",
   "metadata": {},
   "source": [
    "**Step-1 : Read the data**"
   ]
  },
  {
   "cell_type": "code",
   "execution_count": 38,
   "id": "b8bf87af-7368-4a10-9006-8aa5c4e89d24",
   "metadata": {},
   "outputs": [],
   "source": [
    "import pandas as pd\n",
    "import numpy as np\n",
    "import seaborn as sns\n",
    "import matplotlib.pyplot as plt"
   ]
  },
  {
   "cell_type": "code",
   "execution_count": 39,
   "id": "22011f03-997c-49a5-8c57-f5d8836e2322",
   "metadata": {},
   "outputs": [
    {
     "data": {
      "text/html": [
       "<div>\n",
       "<style scoped>\n",
       "    .dataframe tbody tr th:only-of-type {\n",
       "        vertical-align: middle;\n",
       "    }\n",
       "\n",
       "    .dataframe tbody tr th {\n",
       "        vertical-align: top;\n",
       "    }\n",
       "\n",
       "    .dataframe thead th {\n",
       "        text-align: right;\n",
       "    }\n",
       "</style>\n",
       "<table border=\"1\" class=\"dataframe\">\n",
       "  <thead>\n",
       "    <tr style=\"text-align: right;\">\n",
       "      <th></th>\n",
       "      <th>gender</th>\n",
       "      <th>age</th>\n",
       "      <th>no_of_days_subscribed</th>\n",
       "      <th>multi_screen</th>\n",
       "      <th>mail_subscribed</th>\n",
       "      <th>weekly_mins_watched</th>\n",
       "      <th>minimum_daily_mins</th>\n",
       "      <th>weekly_max_night_mins</th>\n",
       "      <th>videos_watched</th>\n",
       "      <th>customer_support_calls</th>\n",
       "      <th>churn</th>\n",
       "    </tr>\n",
       "  </thead>\n",
       "  <tbody>\n",
       "    <tr>\n",
       "      <th>0</th>\n",
       "      <td>0</td>\n",
       "      <td>-0.264643</td>\n",
       "      <td>-0.946659</td>\n",
       "      <td>0</td>\n",
       "      <td>0</td>\n",
       "      <td>-1.508785</td>\n",
       "      <td>0.722258</td>\n",
       "      <td>-0.944404</td>\n",
       "      <td>-1.403000</td>\n",
       "      <td>-0.415473</td>\n",
       "      <td>0</td>\n",
       "    </tr>\n",
       "    <tr>\n",
       "      <th>1</th>\n",
       "      <td>0</td>\n",
       "      <td>0.029654</td>\n",
       "      <td>1.235009</td>\n",
       "      <td>0</td>\n",
       "      <td>0</td>\n",
       "      <td>0.304821</td>\n",
       "      <td>-0.901748</td>\n",
       "      <td>-0.688523</td>\n",
       "      <td>-0.599124</td>\n",
       "      <td>0.347522</td>\n",
       "      <td>0</td>\n",
       "    </tr>\n",
       "    <tr>\n",
       "      <th>2</th>\n",
       "      <td>0</td>\n",
       "      <td>2.580235</td>\n",
       "      <td>0.658246</td>\n",
       "      <td>0</td>\n",
       "      <td>0</td>\n",
       "      <td>-2.266627</td>\n",
       "      <td>0.613991</td>\n",
       "      <td>-0.483818</td>\n",
       "      <td>-1.403000</td>\n",
       "      <td>2.636507</td>\n",
       "      <td>1</td>\n",
       "    </tr>\n",
       "    <tr>\n",
       "      <th>3</th>\n",
       "      <td>0</td>\n",
       "      <td>-1.441834</td>\n",
       "      <td>0.783629</td>\n",
       "      <td>0</td>\n",
       "      <td>1</td>\n",
       "      <td>0.638123</td>\n",
       "      <td>-0.252146</td>\n",
       "      <td>0.079121</td>\n",
       "      <td>-0.197185</td>\n",
       "      <td>1.110517</td>\n",
       "      <td>0</td>\n",
       "    </tr>\n",
       "    <tr>\n",
       "      <th>4</th>\n",
       "      <td>0</td>\n",
       "      <td>0.127754</td>\n",
       "      <td>2.288228</td>\n",
       "      <td>0</td>\n",
       "      <td>0</td>\n",
       "      <td>-0.333851</td>\n",
       "      <td>0.253101</td>\n",
       "      <td>-0.893228</td>\n",
       "      <td>1.008630</td>\n",
       "      <td>-0.415473</td>\n",
       "      <td>0</td>\n",
       "    </tr>\n",
       "    <tr>\n",
       "      <th>...</th>\n",
       "      <td>...</td>\n",
       "      <td>...</td>\n",
       "      <td>...</td>\n",
       "      <td>...</td>\n",
       "      <td>...</td>\n",
       "      <td>...</td>\n",
       "      <td>...</td>\n",
       "      <td>...</td>\n",
       "      <td>...</td>\n",
       "      <td>...</td>\n",
       "      <td>...</td>\n",
       "    </tr>\n",
       "    <tr>\n",
       "      <th>3401</th>\n",
       "      <td>1</td>\n",
       "      <td>-0.805656</td>\n",
       "      <td>0.479710</td>\n",
       "      <td>0</td>\n",
       "      <td>0</td>\n",
       "      <td>0.887802</td>\n",
       "      <td>0.552184</td>\n",
       "      <td>0.865765</td>\n",
       "      <td>-0.495634</td>\n",
       "      <td>-0.415473</td>\n",
       "      <td>1</td>\n",
       "    </tr>\n",
       "    <tr>\n",
       "      <th>3402</th>\n",
       "      <td>0</td>\n",
       "      <td>0.477826</td>\n",
       "      <td>0.674425</td>\n",
       "      <td>0</td>\n",
       "      <td>0</td>\n",
       "      <td>2.038061</td>\n",
       "      <td>-0.931071</td>\n",
       "      <td>0.567257</td>\n",
       "      <td>2.100185</td>\n",
       "      <td>0.235227</td>\n",
       "      <td>1</td>\n",
       "    </tr>\n",
       "    <tr>\n",
       "      <th>3403</th>\n",
       "      <td>0</td>\n",
       "      <td>-0.550521</td>\n",
       "      <td>0.426099</td>\n",
       "      <td>0</td>\n",
       "      <td>1</td>\n",
       "      <td>-0.410669</td>\n",
       "      <td>0.344847</td>\n",
       "      <td>-0.729485</td>\n",
       "      <td>-0.403904</td>\n",
       "      <td>1.873512</td>\n",
       "      <td>1</td>\n",
       "    </tr>\n",
       "    <tr>\n",
       "      <th>3404</th>\n",
       "      <td>0</td>\n",
       "      <td>0.004651</td>\n",
       "      <td>-0.444637</td>\n",
       "      <td>0</td>\n",
       "      <td>0</td>\n",
       "      <td>1.359751</td>\n",
       "      <td>-0.847121</td>\n",
       "      <td>-0.715010</td>\n",
       "      <td>-0.197185</td>\n",
       "      <td>-1.178468</td>\n",
       "      <td>1</td>\n",
       "    </tr>\n",
       "    <tr>\n",
       "      <th>3405</th>\n",
       "      <td>0</td>\n",
       "      <td>-0.057028</td>\n",
       "      <td>0.317748</td>\n",
       "      <td>0</td>\n",
       "      <td>0</td>\n",
       "      <td>2.844852</td>\n",
       "      <td>0.098115</td>\n",
       "      <td>-0.550251</td>\n",
       "      <td>0.606692</td>\n",
       "      <td>-1.178468</td>\n",
       "      <td>1</td>\n",
       "    </tr>\n",
       "  </tbody>\n",
       "</table>\n",
       "<p>3406 rows × 11 columns</p>\n",
       "</div>"
      ],
      "text/plain": [
       "      gender       age  no_of_days_subscribed  multi_screen  mail_subscribed  \\\n",
       "0          0 -0.264643              -0.946659             0                0   \n",
       "1          0  0.029654               1.235009             0                0   \n",
       "2          0  2.580235               0.658246             0                0   \n",
       "3          0 -1.441834               0.783629             0                1   \n",
       "4          0  0.127754               2.288228             0                0   \n",
       "...      ...       ...                    ...           ...              ...   \n",
       "3401       1 -0.805656               0.479710             0                0   \n",
       "3402       0  0.477826               0.674425             0                0   \n",
       "3403       0 -0.550521               0.426099             0                1   \n",
       "3404       0  0.004651              -0.444637             0                0   \n",
       "3405       0 -0.057028               0.317748             0                0   \n",
       "\n",
       "      weekly_mins_watched  minimum_daily_mins  weekly_max_night_mins  \\\n",
       "0               -1.508785            0.722258              -0.944404   \n",
       "1                0.304821           -0.901748              -0.688523   \n",
       "2               -2.266627            0.613991              -0.483818   \n",
       "3                0.638123           -0.252146               0.079121   \n",
       "4               -0.333851            0.253101              -0.893228   \n",
       "...                   ...                 ...                    ...   \n",
       "3401             0.887802            0.552184               0.865765   \n",
       "3402             2.038061           -0.931071               0.567257   \n",
       "3403            -0.410669            0.344847              -0.729485   \n",
       "3404             1.359751           -0.847121              -0.715010   \n",
       "3405             2.844852            0.098115              -0.550251   \n",
       "\n",
       "      videos_watched  customer_support_calls  churn  \n",
       "0          -1.403000               -0.415473      0  \n",
       "1          -0.599124                0.347522      0  \n",
       "2          -1.403000                2.636507      1  \n",
       "3          -0.197185                1.110517      0  \n",
       "4           1.008630               -0.415473      0  \n",
       "...              ...                     ...    ...  \n",
       "3401       -0.495634               -0.415473      1  \n",
       "3402        2.100185                0.235227      1  \n",
       "3403       -0.403904                1.873512      1  \n",
       "3404       -0.197185               -1.178468      1  \n",
       "3405        0.606692               -1.178468      1  \n",
       "\n",
       "[3406 rows x 11 columns]"
      ]
     },
     "execution_count": 39,
     "metadata": {},
     "output_type": "execute_result"
    }
   ],
   "source": [
    "df=pd.read_csv('preprocessd_data.csv')\n",
    "df"
   ]
  },
  {
   "cell_type": "markdown",
   "id": "f7abb5d3-7b24-4f03-8fde-e3b54ca8f3bc",
   "metadata": {},
   "source": [
    "**Step-2 : Split into X(input columns) and y(output column)**"
   ]
  },
  {
   "cell_type": "code",
   "execution_count": 40,
   "id": "926db367-87b3-48fc-89c1-a839760448f7",
   "metadata": {},
   "outputs": [],
   "source": [
    "X=df.drop('churn',axis=1)\n",
    "y=df['churn']"
   ]
  },
  {
   "cell_type": "markdown",
   "id": "865baac3-3724-4ae3-acf0-afd65005c83e",
   "metadata": {},
   "source": [
    "**Step-3 : Train-Test-Split**"
   ]
  },
  {
   "cell_type": "code",
   "execution_count": 4,
   "id": "89cebd83-009b-477f-87b0-7bed1c28e47c",
   "metadata": {},
   "outputs": [],
   "source": [
    "from sklearn.model_selection import train_test_split\n",
    "X_train,X_test,y_train,y_test=train_test_split(X,y,test_size=0.2,random_state=42)"
   ]
  },
  {
   "cell_type": "markdown",
   "id": "574b95ac-f392-4b14-aefa-fca6aec3e8c8",
   "metadata": {},
   "source": [
    "**Step-4 : Develop Base Model(Without fitting data)**"
   ]
  },
  {
   "cell_type": "code",
   "execution_count": 41,
   "id": "5eef4210-66da-40f3-88fc-d46ac3273775",
   "metadata": {},
   "outputs": [
    {
     "data": {
      "text/html": [
       "<style>#sk-container-id-7 {color: black;background-color: white;}#sk-container-id-7 pre{padding: 0;}#sk-container-id-7 div.sk-toggleable {background-color: white;}#sk-container-id-7 label.sk-toggleable__label {cursor: pointer;display: block;width: 100%;margin-bottom: 0;padding: 0.3em;box-sizing: border-box;text-align: center;}#sk-container-id-7 label.sk-toggleable__label-arrow:before {content: \"▸\";float: left;margin-right: 0.25em;color: #696969;}#sk-container-id-7 label.sk-toggleable__label-arrow:hover:before {color: black;}#sk-container-id-7 div.sk-estimator:hover label.sk-toggleable__label-arrow:before {color: black;}#sk-container-id-7 div.sk-toggleable__content {max-height: 0;max-width: 0;overflow: hidden;text-align: left;background-color: #f0f8ff;}#sk-container-id-7 div.sk-toggleable__content pre {margin: 0.2em;color: black;border-radius: 0.25em;background-color: #f0f8ff;}#sk-container-id-7 input.sk-toggleable__control:checked~div.sk-toggleable__content {max-height: 200px;max-width: 100%;overflow: auto;}#sk-container-id-7 input.sk-toggleable__control:checked~label.sk-toggleable__label-arrow:before {content: \"▾\";}#sk-container-id-7 div.sk-estimator input.sk-toggleable__control:checked~label.sk-toggleable__label {background-color: #d4ebff;}#sk-container-id-7 div.sk-label input.sk-toggleable__control:checked~label.sk-toggleable__label {background-color: #d4ebff;}#sk-container-id-7 input.sk-hidden--visually {border: 0;clip: rect(1px 1px 1px 1px);clip: rect(1px, 1px, 1px, 1px);height: 1px;margin: -1px;overflow: hidden;padding: 0;position: absolute;width: 1px;}#sk-container-id-7 div.sk-estimator {font-family: monospace;background-color: #f0f8ff;border: 1px dotted black;border-radius: 0.25em;box-sizing: border-box;margin-bottom: 0.5em;}#sk-container-id-7 div.sk-estimator:hover {background-color: #d4ebff;}#sk-container-id-7 div.sk-parallel-item::after {content: \"\";width: 100%;border-bottom: 1px solid gray;flex-grow: 1;}#sk-container-id-7 div.sk-label:hover label.sk-toggleable__label {background-color: #d4ebff;}#sk-container-id-7 div.sk-serial::before {content: \"\";position: absolute;border-left: 1px solid gray;box-sizing: border-box;top: 0;bottom: 0;left: 50%;z-index: 0;}#sk-container-id-7 div.sk-serial {display: flex;flex-direction: column;align-items: center;background-color: white;padding-right: 0.2em;padding-left: 0.2em;position: relative;}#sk-container-id-7 div.sk-item {position: relative;z-index: 1;}#sk-container-id-7 div.sk-parallel {display: flex;align-items: stretch;justify-content: center;background-color: white;position: relative;}#sk-container-id-7 div.sk-item::before, #sk-container-id-7 div.sk-parallel-item::before {content: \"\";position: absolute;border-left: 1px solid gray;box-sizing: border-box;top: 0;bottom: 0;left: 50%;z-index: -1;}#sk-container-id-7 div.sk-parallel-item {display: flex;flex-direction: column;z-index: 1;position: relative;background-color: white;}#sk-container-id-7 div.sk-parallel-item:first-child::after {align-self: flex-end;width: 50%;}#sk-container-id-7 div.sk-parallel-item:last-child::after {align-self: flex-start;width: 50%;}#sk-container-id-7 div.sk-parallel-item:only-child::after {width: 0;}#sk-container-id-7 div.sk-dashed-wrapped {border: 1px dashed gray;margin: 0 0.4em 0.5em 0.4em;box-sizing: border-box;padding-bottom: 0.4em;background-color: white;}#sk-container-id-7 div.sk-label label {font-family: monospace;font-weight: bold;display: inline-block;line-height: 1.2em;}#sk-container-id-7 div.sk-label-container {text-align: center;}#sk-container-id-7 div.sk-container {/* jupyter's `normalize.less` sets `[hidden] { display: none; }` but bootstrap.min.css set `[hidden] { display: none !important; }` so we also need the `!important` here to be able to override the default hidden behavior on the sphinx rendered scikit-learn.org. See: https://github.com/scikit-learn/scikit-learn/issues/21755 */display: inline-block !important;position: relative;}#sk-container-id-7 div.sk-text-repr-fallback {display: none;}</style><div id=\"sk-container-id-7\" class=\"sk-top-container\"><div class=\"sk-text-repr-fallback\"><pre>KNeighborsClassifier()</pre><b>In a Jupyter environment, please rerun this cell to show the HTML representation or trust the notebook. <br />On GitHub, the HTML representation is unable to render, please try loading this page with nbviewer.org.</b></div><div class=\"sk-container\" hidden><div class=\"sk-item\"><div class=\"sk-estimator sk-toggleable\"><input class=\"sk-toggleable__control sk-hidden--visually\" id=\"sk-estimator-id-9\" type=\"checkbox\" checked><label for=\"sk-estimator-id-9\" class=\"sk-toggleable__label sk-toggleable__label-arrow\">KNeighborsClassifier</label><div class=\"sk-toggleable__content\"><pre>KNeighborsClassifier()</pre></div></div></div></div></div>"
      ],
      "text/plain": [
       "KNeighborsClassifier()"
      ]
     },
     "execution_count": 41,
     "metadata": {},
     "output_type": "execute_result"
    }
   ],
   "source": [
    "from sklearn.neighbors import KNeighborsClassifier\n",
    "knn=KNeighborsClassifier()\n",
    "knn                           # base model"
   ]
  },
  {
   "cell_type": "markdown",
   "id": "899905ad-fc56-4a69-b382-e91ff996b2ab",
   "metadata": {},
   "source": [
    "**Step-5 : Get Model Parameters**"
   ]
  },
  {
   "cell_type": "code",
   "execution_count": 44,
   "id": "9a9513ed-9eb0-4d85-81f8-6065027fe555",
   "metadata": {},
   "outputs": [
    {
     "data": {
      "text/plain": [
       "{'algorithm': 'auto',\n",
       " 'leaf_size': 30,\n",
       " 'metric': 'minkowski',\n",
       " 'metric_params': None,\n",
       " 'n_jobs': None,\n",
       " 'n_neighbors': 5,\n",
       " 'p': 2,\n",
       " 'weights': 'uniform'}"
      ]
     },
     "execution_count": 44,
     "metadata": {},
     "output_type": "execute_result"
    }
   ],
   "source": [
    "knn.get_params()"
   ]
  },
  {
   "cell_type": "markdown",
   "id": "e921e739-22e7-4c28-9f1e-caf9f51c8def",
   "metadata": {},
   "source": [
    "**Step-6 : Make the parameters file**"
   ]
  },
  {
   "cell_type": "code",
   "execution_count": 45,
   "id": "957d0092-6761-45d0-b606-621653834400",
   "metadata": {},
   "outputs": [],
   "source": [
    "param_grid={'n_neighbors': [5,10,15,20],    #4\n",
    "            'p': [1,2],                     #2\n",
    "            'weights': ['uniform','distance']}#2\n",
    "\n",
    "# 4*2*2=16"
   ]
  },
  {
   "cell_type": "markdown",
   "id": "5f63592c-f3c5-4eef-9cf6-7e2215e8e997",
   "metadata": {},
   "source": [
    "**Step-7 : Take GriDsearch pass the arguments of $step-6$**"
   ]
  },
  {
   "cell_type": "code",
   "execution_count": 46,
   "id": "61938237-59a7-4b2b-82d5-8ea65c3912c5",
   "metadata": {},
   "outputs": [],
   "source": [
    "from sklearn.model_selection import GridSearchCV,cross_val_score\n",
    "grid_search=GridSearchCV(knn, #base model\n",
    "                        param_grid, # param\n",
    "                        scoring='accuracy',# metric\n",
    "                        cv=5,\n",
    "                        verbose=True)"
   ]
  },
  {
   "cell_type": "code",
   "execution_count": 47,
   "id": "b9293d8a-da23-4495-9f85-a067e1bfacd1",
   "metadata": {},
   "outputs": [
    {
     "data": {
      "text/html": [
       "<style>#sk-container-id-8 {color: black;background-color: white;}#sk-container-id-8 pre{padding: 0;}#sk-container-id-8 div.sk-toggleable {background-color: white;}#sk-container-id-8 label.sk-toggleable__label {cursor: pointer;display: block;width: 100%;margin-bottom: 0;padding: 0.3em;box-sizing: border-box;text-align: center;}#sk-container-id-8 label.sk-toggleable__label-arrow:before {content: \"▸\";float: left;margin-right: 0.25em;color: #696969;}#sk-container-id-8 label.sk-toggleable__label-arrow:hover:before {color: black;}#sk-container-id-8 div.sk-estimator:hover label.sk-toggleable__label-arrow:before {color: black;}#sk-container-id-8 div.sk-toggleable__content {max-height: 0;max-width: 0;overflow: hidden;text-align: left;background-color: #f0f8ff;}#sk-container-id-8 div.sk-toggleable__content pre {margin: 0.2em;color: black;border-radius: 0.25em;background-color: #f0f8ff;}#sk-container-id-8 input.sk-toggleable__control:checked~div.sk-toggleable__content {max-height: 200px;max-width: 100%;overflow: auto;}#sk-container-id-8 input.sk-toggleable__control:checked~label.sk-toggleable__label-arrow:before {content: \"▾\";}#sk-container-id-8 div.sk-estimator input.sk-toggleable__control:checked~label.sk-toggleable__label {background-color: #d4ebff;}#sk-container-id-8 div.sk-label input.sk-toggleable__control:checked~label.sk-toggleable__label {background-color: #d4ebff;}#sk-container-id-8 input.sk-hidden--visually {border: 0;clip: rect(1px 1px 1px 1px);clip: rect(1px, 1px, 1px, 1px);height: 1px;margin: -1px;overflow: hidden;padding: 0;position: absolute;width: 1px;}#sk-container-id-8 div.sk-estimator {font-family: monospace;background-color: #f0f8ff;border: 1px dotted black;border-radius: 0.25em;box-sizing: border-box;margin-bottom: 0.5em;}#sk-container-id-8 div.sk-estimator:hover {background-color: #d4ebff;}#sk-container-id-8 div.sk-parallel-item::after {content: \"\";width: 100%;border-bottom: 1px solid gray;flex-grow: 1;}#sk-container-id-8 div.sk-label:hover label.sk-toggleable__label {background-color: #d4ebff;}#sk-container-id-8 div.sk-serial::before {content: \"\";position: absolute;border-left: 1px solid gray;box-sizing: border-box;top: 0;bottom: 0;left: 50%;z-index: 0;}#sk-container-id-8 div.sk-serial {display: flex;flex-direction: column;align-items: center;background-color: white;padding-right: 0.2em;padding-left: 0.2em;position: relative;}#sk-container-id-8 div.sk-item {position: relative;z-index: 1;}#sk-container-id-8 div.sk-parallel {display: flex;align-items: stretch;justify-content: center;background-color: white;position: relative;}#sk-container-id-8 div.sk-item::before, #sk-container-id-8 div.sk-parallel-item::before {content: \"\";position: absolute;border-left: 1px solid gray;box-sizing: border-box;top: 0;bottom: 0;left: 50%;z-index: -1;}#sk-container-id-8 div.sk-parallel-item {display: flex;flex-direction: column;z-index: 1;position: relative;background-color: white;}#sk-container-id-8 div.sk-parallel-item:first-child::after {align-self: flex-end;width: 50%;}#sk-container-id-8 div.sk-parallel-item:last-child::after {align-self: flex-start;width: 50%;}#sk-container-id-8 div.sk-parallel-item:only-child::after {width: 0;}#sk-container-id-8 div.sk-dashed-wrapped {border: 1px dashed gray;margin: 0 0.4em 0.5em 0.4em;box-sizing: border-box;padding-bottom: 0.4em;background-color: white;}#sk-container-id-8 div.sk-label label {font-family: monospace;font-weight: bold;display: inline-block;line-height: 1.2em;}#sk-container-id-8 div.sk-label-container {text-align: center;}#sk-container-id-8 div.sk-container {/* jupyter's `normalize.less` sets `[hidden] { display: none; }` but bootstrap.min.css set `[hidden] { display: none !important; }` so we also need the `!important` here to be able to override the default hidden behavior on the sphinx rendered scikit-learn.org. See: https://github.com/scikit-learn/scikit-learn/issues/21755 */display: inline-block !important;position: relative;}#sk-container-id-8 div.sk-text-repr-fallback {display: none;}</style><div id=\"sk-container-id-8\" class=\"sk-top-container\"><div class=\"sk-text-repr-fallback\"><pre>GridSearchCV(cv=5, estimator=KNeighborsClassifier(),\n",
       "             param_grid={&#x27;n_neighbors&#x27;: [5, 10, 15, 20], &#x27;p&#x27;: [1, 2],\n",
       "                         &#x27;weights&#x27;: [&#x27;uniform&#x27;, &#x27;distance&#x27;]},\n",
       "             scoring=&#x27;accuracy&#x27;, verbose=True)</pre><b>In a Jupyter environment, please rerun this cell to show the HTML representation or trust the notebook. <br />On GitHub, the HTML representation is unable to render, please try loading this page with nbviewer.org.</b></div><div class=\"sk-container\" hidden><div class=\"sk-item sk-dashed-wrapped\"><div class=\"sk-label-container\"><div class=\"sk-label sk-toggleable\"><input class=\"sk-toggleable__control sk-hidden--visually\" id=\"sk-estimator-id-10\" type=\"checkbox\" ><label for=\"sk-estimator-id-10\" class=\"sk-toggleable__label sk-toggleable__label-arrow\">GridSearchCV</label><div class=\"sk-toggleable__content\"><pre>GridSearchCV(cv=5, estimator=KNeighborsClassifier(),\n",
       "             param_grid={&#x27;n_neighbors&#x27;: [5, 10, 15, 20], &#x27;p&#x27;: [1, 2],\n",
       "                         &#x27;weights&#x27;: [&#x27;uniform&#x27;, &#x27;distance&#x27;]},\n",
       "             scoring=&#x27;accuracy&#x27;, verbose=True)</pre></div></div></div><div class=\"sk-parallel\"><div class=\"sk-parallel-item\"><div class=\"sk-item\"><div class=\"sk-label-container\"><div class=\"sk-label sk-toggleable\"><input class=\"sk-toggleable__control sk-hidden--visually\" id=\"sk-estimator-id-11\" type=\"checkbox\" ><label for=\"sk-estimator-id-11\" class=\"sk-toggleable__label sk-toggleable__label-arrow\">estimator: KNeighborsClassifier</label><div class=\"sk-toggleable__content\"><pre>KNeighborsClassifier()</pre></div></div></div><div class=\"sk-serial\"><div class=\"sk-item\"><div class=\"sk-estimator sk-toggleable\"><input class=\"sk-toggleable__control sk-hidden--visually\" id=\"sk-estimator-id-12\" type=\"checkbox\" ><label for=\"sk-estimator-id-12\" class=\"sk-toggleable__label sk-toggleable__label-arrow\">KNeighborsClassifier</label><div class=\"sk-toggleable__content\"><pre>KNeighborsClassifier()</pre></div></div></div></div></div></div></div></div></div></div>"
      ],
      "text/plain": [
       "GridSearchCV(cv=5, estimator=KNeighborsClassifier(),\n",
       "             param_grid={'n_neighbors': [5, 10, 15, 20], 'p': [1, 2],\n",
       "                         'weights': ['uniform', 'distance']},\n",
       "             scoring='accuracy', verbose=True)"
      ]
     },
     "execution_count": 47,
     "metadata": {},
     "output_type": "execute_result"
    }
   ],
   "source": [
    "grid_search"
   ]
  },
  {
   "cell_type": "markdown",
   "id": "737eac88-ac3a-46e0-bf32-26110f7bdbab",
   "metadata": {},
   "source": [
    "**Step-8 : Fit the data in grid search**"
   ]
  },
  {
   "cell_type": "code",
   "execution_count": 15,
   "id": "5087a812-ea07-4dfa-b528-5591a7ad3e83",
   "metadata": {},
   "outputs": [
    {
     "name": "stdout",
     "output_type": "stream",
     "text": [
      "Fitting 5 folds for each of 16 candidates, totalling 80 fits\n",
      "Total time taken is: 5.153520822525024\n"
     ]
    }
   ],
   "source": [
    "import time\n",
    "start=time.time()\n",
    "grid_search.fit(X_train,y_train)\n",
    "end=time.time()\n",
    "print('Total time taken is:',(end-start))"
   ]
  },
  {
   "cell_type": "code",
   "execution_count": 16,
   "id": "9c2a5db4-0d7b-4405-a63e-79f512c90896",
   "metadata": {},
   "outputs": [
    {
     "data": {
      "text/plain": [
       "((2724, 10), (682, 10), (2724,), (682,))"
      ]
     },
     "execution_count": 16,
     "metadata": {},
     "output_type": "execute_result"
    }
   ],
   "source": [
    "X_train.shape,X_test.shape,y_train.shape,y_test.shape"
   ]
  },
  {
   "cell_type": "markdown",
   "id": "19341cda-fc38-47a0-a815-9634a55629ea",
   "metadata": {},
   "source": [
    "**Step-9 : Get below 3 from grid search`**\n",
    "\n",
    "- 1. Best score\n",
    "- 2. Best estimator\n",
    "- 3. Get best parameters"
   ]
  },
  {
   "cell_type": "code",
   "execution_count": 14,
   "id": "d4acd59b-6ff6-41e0-8203-9ca6b11124c7",
   "metadata": {},
   "outputs": [
    {
     "data": {
      "text/plain": [
       "['__abstractmethods__',\n",
       " '__class__',\n",
       " '__delattr__',\n",
       " '__dict__',\n",
       " '__dir__',\n",
       " '__doc__',\n",
       " '__eq__',\n",
       " '__format__',\n",
       " '__ge__',\n",
       " '__getattribute__',\n",
       " '__getstate__',\n",
       " '__gt__',\n",
       " '__hash__',\n",
       " '__init__',\n",
       " '__init_subclass__',\n",
       " '__le__',\n",
       " '__lt__',\n",
       " '__module__',\n",
       " '__ne__',\n",
       " '__new__',\n",
       " '__reduce__',\n",
       " '__reduce_ex__',\n",
       " '__repr__',\n",
       " '__setattr__',\n",
       " '__setstate__',\n",
       " '__sizeof__',\n",
       " '__str__',\n",
       " '__subclasshook__',\n",
       " '__weakref__',\n",
       " '_abc_impl',\n",
       " '_check_feature_names',\n",
       " '_check_n_features',\n",
       " '_check_refit_for_multimetric',\n",
       " '_estimator_type',\n",
       " '_format_results',\n",
       " '_get_param_names',\n",
       " '_get_tags',\n",
       " '_more_tags',\n",
       " '_repr_html_',\n",
       " '_repr_html_inner',\n",
       " '_repr_mimebundle_',\n",
       " '_required_parameters',\n",
       " '_run_search',\n",
       " '_select_best_index',\n",
       " '_validate_data',\n",
       " '_validate_params',\n",
       " 'classes_',\n",
       " 'cv',\n",
       " 'decision_function',\n",
       " 'error_score',\n",
       " 'estimator',\n",
       " 'fit',\n",
       " 'get_params',\n",
       " 'inverse_transform',\n",
       " 'n_features_in_',\n",
       " 'n_jobs',\n",
       " 'param_grid',\n",
       " 'pre_dispatch',\n",
       " 'predict',\n",
       " 'predict_log_proba',\n",
       " 'predict_proba',\n",
       " 'refit',\n",
       " 'return_train_score',\n",
       " 'score',\n",
       " 'score_samples',\n",
       " 'scoring',\n",
       " 'set_params',\n",
       " 'transform',\n",
       " 'verbose']"
      ]
     },
     "execution_count": 14,
     "metadata": {},
     "output_type": "execute_result"
    }
   ],
   "source": [
    "dir(grid_search)"
   ]
  },
  {
   "cell_type": "code",
   "execution_count": 22,
   "id": "2ebf4a93-6c16-4061-a78f-7baa9a94643c",
   "metadata": {},
   "outputs": [
    {
     "data": {
      "text/plain": [
       "0.8887695628710199"
      ]
     },
     "execution_count": 22,
     "metadata": {},
     "output_type": "execute_result"
    }
   ],
   "source": [
    "grid_search.best_score_"
   ]
  },
  {
   "cell_type": "code",
   "execution_count": 24,
   "id": "7a23741c-e82a-4c45-a085-309d437d71c1",
   "metadata": {},
   "outputs": [
    {
     "data": {
      "text/plain": [
       "{'n_neighbors': 5, 'p': 1, 'weights': 'distance'}"
      ]
     },
     "execution_count": 24,
     "metadata": {},
     "output_type": "execute_result"
    }
   ],
   "source": [
    "grid_search.best_params_"
   ]
  },
  {
   "cell_type": "code",
   "execution_count": 28,
   "id": "bd8bb911-b1dc-4b7b-ab64-7f27479e9533",
   "metadata": {},
   "outputs": [
    {
     "data": {
      "text/html": [
       "<style>#sk-container-id-6 {color: black;background-color: white;}#sk-container-id-6 pre{padding: 0;}#sk-container-id-6 div.sk-toggleable {background-color: white;}#sk-container-id-6 label.sk-toggleable__label {cursor: pointer;display: block;width: 100%;margin-bottom: 0;padding: 0.3em;box-sizing: border-box;text-align: center;}#sk-container-id-6 label.sk-toggleable__label-arrow:before {content: \"▸\";float: left;margin-right: 0.25em;color: #696969;}#sk-container-id-6 label.sk-toggleable__label-arrow:hover:before {color: black;}#sk-container-id-6 div.sk-estimator:hover label.sk-toggleable__label-arrow:before {color: black;}#sk-container-id-6 div.sk-toggleable__content {max-height: 0;max-width: 0;overflow: hidden;text-align: left;background-color: #f0f8ff;}#sk-container-id-6 div.sk-toggleable__content pre {margin: 0.2em;color: black;border-radius: 0.25em;background-color: #f0f8ff;}#sk-container-id-6 input.sk-toggleable__control:checked~div.sk-toggleable__content {max-height: 200px;max-width: 100%;overflow: auto;}#sk-container-id-6 input.sk-toggleable__control:checked~label.sk-toggleable__label-arrow:before {content: \"▾\";}#sk-container-id-6 div.sk-estimator input.sk-toggleable__control:checked~label.sk-toggleable__label {background-color: #d4ebff;}#sk-container-id-6 div.sk-label input.sk-toggleable__control:checked~label.sk-toggleable__label {background-color: #d4ebff;}#sk-container-id-6 input.sk-hidden--visually {border: 0;clip: rect(1px 1px 1px 1px);clip: rect(1px, 1px, 1px, 1px);height: 1px;margin: -1px;overflow: hidden;padding: 0;position: absolute;width: 1px;}#sk-container-id-6 div.sk-estimator {font-family: monospace;background-color: #f0f8ff;border: 1px dotted black;border-radius: 0.25em;box-sizing: border-box;margin-bottom: 0.5em;}#sk-container-id-6 div.sk-estimator:hover {background-color: #d4ebff;}#sk-container-id-6 div.sk-parallel-item::after {content: \"\";width: 100%;border-bottom: 1px solid gray;flex-grow: 1;}#sk-container-id-6 div.sk-label:hover label.sk-toggleable__label {background-color: #d4ebff;}#sk-container-id-6 div.sk-serial::before {content: \"\";position: absolute;border-left: 1px solid gray;box-sizing: border-box;top: 0;bottom: 0;left: 50%;z-index: 0;}#sk-container-id-6 div.sk-serial {display: flex;flex-direction: column;align-items: center;background-color: white;padding-right: 0.2em;padding-left: 0.2em;position: relative;}#sk-container-id-6 div.sk-item {position: relative;z-index: 1;}#sk-container-id-6 div.sk-parallel {display: flex;align-items: stretch;justify-content: center;background-color: white;position: relative;}#sk-container-id-6 div.sk-item::before, #sk-container-id-6 div.sk-parallel-item::before {content: \"\";position: absolute;border-left: 1px solid gray;box-sizing: border-box;top: 0;bottom: 0;left: 50%;z-index: -1;}#sk-container-id-6 div.sk-parallel-item {display: flex;flex-direction: column;z-index: 1;position: relative;background-color: white;}#sk-container-id-6 div.sk-parallel-item:first-child::after {align-self: flex-end;width: 50%;}#sk-container-id-6 div.sk-parallel-item:last-child::after {align-self: flex-start;width: 50%;}#sk-container-id-6 div.sk-parallel-item:only-child::after {width: 0;}#sk-container-id-6 div.sk-dashed-wrapped {border: 1px dashed gray;margin: 0 0.4em 0.5em 0.4em;box-sizing: border-box;padding-bottom: 0.4em;background-color: white;}#sk-container-id-6 div.sk-label label {font-family: monospace;font-weight: bold;display: inline-block;line-height: 1.2em;}#sk-container-id-6 div.sk-label-container {text-align: center;}#sk-container-id-6 div.sk-container {/* jupyter's `normalize.less` sets `[hidden] { display: none; }` but bootstrap.min.css set `[hidden] { display: none !important; }` so we also need the `!important` here to be able to override the default hidden behavior on the sphinx rendered scikit-learn.org. See: https://github.com/scikit-learn/scikit-learn/issues/21755 */display: inline-block !important;position: relative;}#sk-container-id-6 div.sk-text-repr-fallback {display: none;}</style><div id=\"sk-container-id-6\" class=\"sk-top-container\"><div class=\"sk-text-repr-fallback\"><pre>KNeighborsClassifier(p=1, weights=&#x27;distance&#x27;)</pre><b>In a Jupyter environment, please rerun this cell to show the HTML representation or trust the notebook. <br />On GitHub, the HTML representation is unable to render, please try loading this page with nbviewer.org.</b></div><div class=\"sk-container\" hidden><div class=\"sk-item\"><div class=\"sk-estimator sk-toggleable\"><input class=\"sk-toggleable__control sk-hidden--visually\" id=\"sk-estimator-id-8\" type=\"checkbox\" checked><label for=\"sk-estimator-id-8\" class=\"sk-toggleable__label sk-toggleable__label-arrow\">KNeighborsClassifier</label><div class=\"sk-toggleable__content\"><pre>KNeighborsClassifier(p=1, weights=&#x27;distance&#x27;)</pre></div></div></div></div></div>"
      ],
      "text/plain": [
       "KNeighborsClassifier(p=1, weights='distance')"
      ]
     },
     "execution_count": 28,
     "metadata": {},
     "output_type": "execute_result"
    }
   ],
   "source": [
    "best_model=grid_search.best_estimator_\n",
    "best_model"
   ]
  },
  {
   "cell_type": "code",
   "execution_count": 29,
   "id": "da326af3-aa53-4c0f-9a92-16e9ce559c2b",
   "metadata": {
    "scrolled": true
   },
   "outputs": [
    {
     "data": {
      "text/plain": [
       "{'mean_fit_time': array([0.01393828, 0.00789347, 0.01394958, 0.00799217, 0.00880365,\n",
       "        0.00696507, 0.0069766 , 0.00719833, 0.00679379, 0.00792432,\n",
       "        0.00639625, 0.00757709, 0.00678978, 0.00671177, 0.00656939,\n",
       "        0.00756736]),\n",
       " 'std_fit_time': array([0.01121549, 0.00260149, 0.0119701 , 0.00064194, 0.00135612,\n",
       "        0.00107733, 0.00087418, 0.00116662, 0.00040618, 0.00136715,\n",
       "        0.00046208, 0.00150392, 0.00073571, 0.00062467, 0.00047763,\n",
       "        0.0022429 ]),\n",
       " 'mean_score_time': array([0.07781262, 0.02805367, 0.07293124, 0.02901359, 0.08498631,\n",
       "        0.03079977, 0.07163997, 0.03151994, 0.0764585 , 0.03949766,\n",
       "        0.07404695, 0.03476768, 0.07824583, 0.03865409, 0.07907548,\n",
       "        0.03912597]),\n",
       " 'std_score_time': array([0.01115739, 0.00297026, 0.00939498, 0.00269285, 0.00736919,\n",
       "        0.00091948, 0.00938192, 0.00384357, 0.00496118, 0.00314848,\n",
       "        0.0023697 , 0.00292252, 0.00536641, 0.00368824, 0.00551243,\n",
       "        0.00345199]),\n",
       " 'param_n_neighbors': masked_array(data=[5, 5, 5, 5, 10, 10, 10, 10, 15, 15, 15, 15, 20, 20, 20,\n",
       "                    20],\n",
       "              mask=[False, False, False, False, False, False, False, False,\n",
       "                    False, False, False, False, False, False, False, False],\n",
       "        fill_value='?',\n",
       "             dtype=object),\n",
       " 'param_p': masked_array(data=[1, 1, 2, 2, 1, 1, 2, 2, 1, 1, 2, 2, 1, 1, 2, 2],\n",
       "              mask=[False, False, False, False, False, False, False, False,\n",
       "                    False, False, False, False, False, False, False, False],\n",
       "        fill_value='?',\n",
       "             dtype=object),\n",
       " 'param_weights': masked_array(data=['uniform', 'distance', 'uniform', 'distance',\n",
       "                    'uniform', 'distance', 'uniform', 'distance',\n",
       "                    'uniform', 'distance', 'uniform', 'distance',\n",
       "                    'uniform', 'distance', 'uniform', 'distance'],\n",
       "              mask=[False, False, False, False, False, False, False, False,\n",
       "                    False, False, False, False, False, False, False, False],\n",
       "        fill_value='?',\n",
       "             dtype=object),\n",
       " 'params': [{'n_neighbors': 5, 'p': 1, 'weights': 'uniform'},\n",
       "  {'n_neighbors': 5, 'p': 1, 'weights': 'distance'},\n",
       "  {'n_neighbors': 5, 'p': 2, 'weights': 'uniform'},\n",
       "  {'n_neighbors': 5, 'p': 2, 'weights': 'distance'},\n",
       "  {'n_neighbors': 10, 'p': 1, 'weights': 'uniform'},\n",
       "  {'n_neighbors': 10, 'p': 1, 'weights': 'distance'},\n",
       "  {'n_neighbors': 10, 'p': 2, 'weights': 'uniform'},\n",
       "  {'n_neighbors': 10, 'p': 2, 'weights': 'distance'},\n",
       "  {'n_neighbors': 15, 'p': 1, 'weights': 'uniform'},\n",
       "  {'n_neighbors': 15, 'p': 1, 'weights': 'distance'},\n",
       "  {'n_neighbors': 15, 'p': 2, 'weights': 'uniform'},\n",
       "  {'n_neighbors': 15, 'p': 2, 'weights': 'distance'},\n",
       "  {'n_neighbors': 20, 'p': 1, 'weights': 'uniform'},\n",
       "  {'n_neighbors': 20, 'p': 1, 'weights': 'distance'},\n",
       "  {'n_neighbors': 20, 'p': 2, 'weights': 'uniform'},\n",
       "  {'n_neighbors': 20, 'p': 2, 'weights': 'distance'}],\n",
       " 'split0_test_score': array([0.88256881, 0.89174312, 0.86788991, 0.88073394, 0.87706422,\n",
       "        0.88440367, 0.88440367, 0.87155963, 0.86055046, 0.86972477,\n",
       "        0.85688073, 0.86788991, 0.8587156 , 0.87522936, 0.8440367 ,\n",
       "        0.86055046]),\n",
       " 'split1_test_score': array([0.87706422, 0.88807339, 0.86605505, 0.8733945 , 0.88990826,\n",
       "        0.88623853, 0.87155963, 0.87522936, 0.86788991, 0.88440367,\n",
       "        0.85688073, 0.86972477, 0.85137615, 0.88256881, 0.85504587,\n",
       "        0.86972477]),\n",
       " 'split2_test_score': array([0.87889908, 0.88623853, 0.85688073, 0.86238532, 0.86422018,\n",
       "        0.87706422, 0.86238532, 0.86422018, 0.84587156, 0.87522936,\n",
       "        0.82752294, 0.85321101, 0.85688073, 0.88623853, 0.83119266,\n",
       "        0.85688073]),\n",
       " 'split3_test_score': array([0.87522936, 0.88073394, 0.84954128, 0.85504587, 0.87706422,\n",
       "        0.87706422, 0.8733945 , 0.86605505, 0.85688073, 0.87706422,\n",
       "        0.85688073, 0.86788991, 0.85137615, 0.87522936, 0.85137615,\n",
       "        0.86972477]),\n",
       " 'split4_test_score': array([0.88419118, 0.89705882, 0.86764706, 0.87316176, 0.88602941,\n",
       "        0.88970588, 0.86397059, 0.87132353, 0.875     , 0.89338235,\n",
       "        0.84191176, 0.85294118, 0.86397059, 0.88786765, 0.83455882,\n",
       "        0.85845588]),\n",
       " 'mean_test_score': array([0.87959053, 0.88876956, 0.86160281, 0.86894428, 0.87885726,\n",
       "        0.8828953 , 0.87114274, 0.86967755, 0.86123853, 0.87996087,\n",
       "        0.84801538, 0.86233135, 0.85646384, 0.88142674, 0.84324204,\n",
       "        0.86306732]),\n",
       " 'std_test_score': array([0.00334414, 0.00545923, 0.0072617 , 0.00908596, 0.00887962,\n",
       "        0.00505647, 0.00786421, 0.00399949, 0.00989168, 0.00819061,\n",
       "        0.01177266, 0.00758701, 0.00476161, 0.00534337, 0.00923809,\n",
       "        0.00555908]),\n",
       " 'rank_test_score': array([ 5,  1, 12,  9,  6,  2,  7,  8, 13,  4, 15, 11, 14,  3, 16, 10])}"
      ]
     },
     "execution_count": 29,
     "metadata": {},
     "output_type": "execute_result"
    }
   ],
   "source": [
    "grid_search.cv_results_"
   ]
  },
  {
   "cell_type": "code",
   "execution_count": 30,
   "id": "a45d3c9b-64e1-4f2a-92ef-a109d66ff123",
   "metadata": {},
   "outputs": [
    {
     "data": {
      "text/html": [
       "<div>\n",
       "<style scoped>\n",
       "    .dataframe tbody tr th:only-of-type {\n",
       "        vertical-align: middle;\n",
       "    }\n",
       "\n",
       "    .dataframe tbody tr th {\n",
       "        vertical-align: top;\n",
       "    }\n",
       "\n",
       "    .dataframe thead th {\n",
       "        text-align: right;\n",
       "    }\n",
       "</style>\n",
       "<table border=\"1\" class=\"dataframe\">\n",
       "  <thead>\n",
       "    <tr style=\"text-align: right;\">\n",
       "      <th></th>\n",
       "      <th>C1</th>\n",
       "      <th>C2</th>\n",
       "      <th>C3</th>\n",
       "      <th>C4</th>\n",
       "      <th>C5</th>\n",
       "      <th>mean_test_score</th>\n",
       "      <th>Average</th>\n",
       "    </tr>\n",
       "  </thead>\n",
       "  <tbody>\n",
       "    <tr>\n",
       "      <th>{'n_neighbors': 5, 'p': 1, 'weights': 'uniform'}</th>\n",
       "      <td>0.882569</td>\n",
       "      <td>0.877064</td>\n",
       "      <td>0.878899</td>\n",
       "      <td>0.875229</td>\n",
       "      <td>0.884191</td>\n",
       "      <td>0.879591</td>\n",
       "      <td>0.879591</td>\n",
       "    </tr>\n",
       "    <tr>\n",
       "      <th>{'n_neighbors': 5, 'p': 1, 'weights': 'distance'}</th>\n",
       "      <td>0.891743</td>\n",
       "      <td>0.888073</td>\n",
       "      <td>0.886239</td>\n",
       "      <td>0.880734</td>\n",
       "      <td>0.897059</td>\n",
       "      <td>0.888770</td>\n",
       "      <td>0.888770</td>\n",
       "    </tr>\n",
       "    <tr>\n",
       "      <th>{'n_neighbors': 5, 'p': 2, 'weights': 'uniform'}</th>\n",
       "      <td>0.867890</td>\n",
       "      <td>0.866055</td>\n",
       "      <td>0.856881</td>\n",
       "      <td>0.849541</td>\n",
       "      <td>0.867647</td>\n",
       "      <td>0.861603</td>\n",
       "      <td>0.861603</td>\n",
       "    </tr>\n",
       "    <tr>\n",
       "      <th>{'n_neighbors': 5, 'p': 2, 'weights': 'distance'}</th>\n",
       "      <td>0.880734</td>\n",
       "      <td>0.873394</td>\n",
       "      <td>0.862385</td>\n",
       "      <td>0.855046</td>\n",
       "      <td>0.873162</td>\n",
       "      <td>0.868944</td>\n",
       "      <td>0.868944</td>\n",
       "    </tr>\n",
       "    <tr>\n",
       "      <th>{'n_neighbors': 10, 'p': 1, 'weights': 'uniform'}</th>\n",
       "      <td>0.877064</td>\n",
       "      <td>0.889908</td>\n",
       "      <td>0.864220</td>\n",
       "      <td>0.877064</td>\n",
       "      <td>0.886029</td>\n",
       "      <td>0.878857</td>\n",
       "      <td>0.878857</td>\n",
       "    </tr>\n",
       "    <tr>\n",
       "      <th>{'n_neighbors': 10, 'p': 1, 'weights': 'distance'}</th>\n",
       "      <td>0.884404</td>\n",
       "      <td>0.886239</td>\n",
       "      <td>0.877064</td>\n",
       "      <td>0.877064</td>\n",
       "      <td>0.889706</td>\n",
       "      <td>0.882895</td>\n",
       "      <td>0.882895</td>\n",
       "    </tr>\n",
       "    <tr>\n",
       "      <th>{'n_neighbors': 10, 'p': 2, 'weights': 'uniform'}</th>\n",
       "      <td>0.884404</td>\n",
       "      <td>0.871560</td>\n",
       "      <td>0.862385</td>\n",
       "      <td>0.873394</td>\n",
       "      <td>0.863971</td>\n",
       "      <td>0.871143</td>\n",
       "      <td>0.871143</td>\n",
       "    </tr>\n",
       "    <tr>\n",
       "      <th>{'n_neighbors': 10, 'p': 2, 'weights': 'distance'}</th>\n",
       "      <td>0.871560</td>\n",
       "      <td>0.875229</td>\n",
       "      <td>0.864220</td>\n",
       "      <td>0.866055</td>\n",
       "      <td>0.871324</td>\n",
       "      <td>0.869678</td>\n",
       "      <td>0.869678</td>\n",
       "    </tr>\n",
       "    <tr>\n",
       "      <th>{'n_neighbors': 15, 'p': 1, 'weights': 'uniform'}</th>\n",
       "      <td>0.860550</td>\n",
       "      <td>0.867890</td>\n",
       "      <td>0.845872</td>\n",
       "      <td>0.856881</td>\n",
       "      <td>0.875000</td>\n",
       "      <td>0.861239</td>\n",
       "      <td>0.861239</td>\n",
       "    </tr>\n",
       "    <tr>\n",
       "      <th>{'n_neighbors': 15, 'p': 1, 'weights': 'distance'}</th>\n",
       "      <td>0.869725</td>\n",
       "      <td>0.884404</td>\n",
       "      <td>0.875229</td>\n",
       "      <td>0.877064</td>\n",
       "      <td>0.893382</td>\n",
       "      <td>0.879961</td>\n",
       "      <td>0.879961</td>\n",
       "    </tr>\n",
       "    <tr>\n",
       "      <th>{'n_neighbors': 15, 'p': 2, 'weights': 'uniform'}</th>\n",
       "      <td>0.856881</td>\n",
       "      <td>0.856881</td>\n",
       "      <td>0.827523</td>\n",
       "      <td>0.856881</td>\n",
       "      <td>0.841912</td>\n",
       "      <td>0.848015</td>\n",
       "      <td>0.848015</td>\n",
       "    </tr>\n",
       "    <tr>\n",
       "      <th>{'n_neighbors': 15, 'p': 2, 'weights': 'distance'}</th>\n",
       "      <td>0.867890</td>\n",
       "      <td>0.869725</td>\n",
       "      <td>0.853211</td>\n",
       "      <td>0.867890</td>\n",
       "      <td>0.852941</td>\n",
       "      <td>0.862331</td>\n",
       "      <td>0.862331</td>\n",
       "    </tr>\n",
       "    <tr>\n",
       "      <th>{'n_neighbors': 20, 'p': 1, 'weights': 'uniform'}</th>\n",
       "      <td>0.858716</td>\n",
       "      <td>0.851376</td>\n",
       "      <td>0.856881</td>\n",
       "      <td>0.851376</td>\n",
       "      <td>0.863971</td>\n",
       "      <td>0.856464</td>\n",
       "      <td>0.856464</td>\n",
       "    </tr>\n",
       "    <tr>\n",
       "      <th>{'n_neighbors': 20, 'p': 1, 'weights': 'distance'}</th>\n",
       "      <td>0.875229</td>\n",
       "      <td>0.882569</td>\n",
       "      <td>0.886239</td>\n",
       "      <td>0.875229</td>\n",
       "      <td>0.887868</td>\n",
       "      <td>0.881427</td>\n",
       "      <td>0.881427</td>\n",
       "    </tr>\n",
       "    <tr>\n",
       "      <th>{'n_neighbors': 20, 'p': 2, 'weights': 'uniform'}</th>\n",
       "      <td>0.844037</td>\n",
       "      <td>0.855046</td>\n",
       "      <td>0.831193</td>\n",
       "      <td>0.851376</td>\n",
       "      <td>0.834559</td>\n",
       "      <td>0.843242</td>\n",
       "      <td>0.843242</td>\n",
       "    </tr>\n",
       "    <tr>\n",
       "      <th>{'n_neighbors': 20, 'p': 2, 'weights': 'distance'}</th>\n",
       "      <td>0.860550</td>\n",
       "      <td>0.869725</td>\n",
       "      <td>0.856881</td>\n",
       "      <td>0.869725</td>\n",
       "      <td>0.858456</td>\n",
       "      <td>0.863067</td>\n",
       "      <td>0.863067</td>\n",
       "    </tr>\n",
       "  </tbody>\n",
       "</table>\n",
       "</div>"
      ],
      "text/plain": [
       "                                                          C1        C2  \\\n",
       "{'n_neighbors': 5, 'p': 1, 'weights': 'uniform'}    0.882569  0.877064   \n",
       "{'n_neighbors': 5, 'p': 1, 'weights': 'distance'}   0.891743  0.888073   \n",
       "{'n_neighbors': 5, 'p': 2, 'weights': 'uniform'}    0.867890  0.866055   \n",
       "{'n_neighbors': 5, 'p': 2, 'weights': 'distance'}   0.880734  0.873394   \n",
       "{'n_neighbors': 10, 'p': 1, 'weights': 'uniform'}   0.877064  0.889908   \n",
       "{'n_neighbors': 10, 'p': 1, 'weights': 'distance'}  0.884404  0.886239   \n",
       "{'n_neighbors': 10, 'p': 2, 'weights': 'uniform'}   0.884404  0.871560   \n",
       "{'n_neighbors': 10, 'p': 2, 'weights': 'distance'}  0.871560  0.875229   \n",
       "{'n_neighbors': 15, 'p': 1, 'weights': 'uniform'}   0.860550  0.867890   \n",
       "{'n_neighbors': 15, 'p': 1, 'weights': 'distance'}  0.869725  0.884404   \n",
       "{'n_neighbors': 15, 'p': 2, 'weights': 'uniform'}   0.856881  0.856881   \n",
       "{'n_neighbors': 15, 'p': 2, 'weights': 'distance'}  0.867890  0.869725   \n",
       "{'n_neighbors': 20, 'p': 1, 'weights': 'uniform'}   0.858716  0.851376   \n",
       "{'n_neighbors': 20, 'p': 1, 'weights': 'distance'}  0.875229  0.882569   \n",
       "{'n_neighbors': 20, 'p': 2, 'weights': 'uniform'}   0.844037  0.855046   \n",
       "{'n_neighbors': 20, 'p': 2, 'weights': 'distance'}  0.860550  0.869725   \n",
       "\n",
       "                                                          C3        C4  \\\n",
       "{'n_neighbors': 5, 'p': 1, 'weights': 'uniform'}    0.878899  0.875229   \n",
       "{'n_neighbors': 5, 'p': 1, 'weights': 'distance'}   0.886239  0.880734   \n",
       "{'n_neighbors': 5, 'p': 2, 'weights': 'uniform'}    0.856881  0.849541   \n",
       "{'n_neighbors': 5, 'p': 2, 'weights': 'distance'}   0.862385  0.855046   \n",
       "{'n_neighbors': 10, 'p': 1, 'weights': 'uniform'}   0.864220  0.877064   \n",
       "{'n_neighbors': 10, 'p': 1, 'weights': 'distance'}  0.877064  0.877064   \n",
       "{'n_neighbors': 10, 'p': 2, 'weights': 'uniform'}   0.862385  0.873394   \n",
       "{'n_neighbors': 10, 'p': 2, 'weights': 'distance'}  0.864220  0.866055   \n",
       "{'n_neighbors': 15, 'p': 1, 'weights': 'uniform'}   0.845872  0.856881   \n",
       "{'n_neighbors': 15, 'p': 1, 'weights': 'distance'}  0.875229  0.877064   \n",
       "{'n_neighbors': 15, 'p': 2, 'weights': 'uniform'}   0.827523  0.856881   \n",
       "{'n_neighbors': 15, 'p': 2, 'weights': 'distance'}  0.853211  0.867890   \n",
       "{'n_neighbors': 20, 'p': 1, 'weights': 'uniform'}   0.856881  0.851376   \n",
       "{'n_neighbors': 20, 'p': 1, 'weights': 'distance'}  0.886239  0.875229   \n",
       "{'n_neighbors': 20, 'p': 2, 'weights': 'uniform'}   0.831193  0.851376   \n",
       "{'n_neighbors': 20, 'p': 2, 'weights': 'distance'}  0.856881  0.869725   \n",
       "\n",
       "                                                          C5  mean_test_score  \\\n",
       "{'n_neighbors': 5, 'p': 1, 'weights': 'uniform'}    0.884191         0.879591   \n",
       "{'n_neighbors': 5, 'p': 1, 'weights': 'distance'}   0.897059         0.888770   \n",
       "{'n_neighbors': 5, 'p': 2, 'weights': 'uniform'}    0.867647         0.861603   \n",
       "{'n_neighbors': 5, 'p': 2, 'weights': 'distance'}   0.873162         0.868944   \n",
       "{'n_neighbors': 10, 'p': 1, 'weights': 'uniform'}   0.886029         0.878857   \n",
       "{'n_neighbors': 10, 'p': 1, 'weights': 'distance'}  0.889706         0.882895   \n",
       "{'n_neighbors': 10, 'p': 2, 'weights': 'uniform'}   0.863971         0.871143   \n",
       "{'n_neighbors': 10, 'p': 2, 'weights': 'distance'}  0.871324         0.869678   \n",
       "{'n_neighbors': 15, 'p': 1, 'weights': 'uniform'}   0.875000         0.861239   \n",
       "{'n_neighbors': 15, 'p': 1, 'weights': 'distance'}  0.893382         0.879961   \n",
       "{'n_neighbors': 15, 'p': 2, 'weights': 'uniform'}   0.841912         0.848015   \n",
       "{'n_neighbors': 15, 'p': 2, 'weights': 'distance'}  0.852941         0.862331   \n",
       "{'n_neighbors': 20, 'p': 1, 'weights': 'uniform'}   0.863971         0.856464   \n",
       "{'n_neighbors': 20, 'p': 1, 'weights': 'distance'}  0.887868         0.881427   \n",
       "{'n_neighbors': 20, 'p': 2, 'weights': 'uniform'}   0.834559         0.843242   \n",
       "{'n_neighbors': 20, 'p': 2, 'weights': 'distance'}  0.858456         0.863067   \n",
       "\n",
       "                                                     Average  \n",
       "{'n_neighbors': 5, 'p': 1, 'weights': 'uniform'}    0.879591  \n",
       "{'n_neighbors': 5, 'p': 1, 'weights': 'distance'}   0.888770  \n",
       "{'n_neighbors': 5, 'p': 2, 'weights': 'uniform'}    0.861603  \n",
       "{'n_neighbors': 5, 'p': 2, 'weights': 'distance'}   0.868944  \n",
       "{'n_neighbors': 10, 'p': 1, 'weights': 'uniform'}   0.878857  \n",
       "{'n_neighbors': 10, 'p': 1, 'weights': 'distance'}  0.882895  \n",
       "{'n_neighbors': 10, 'p': 2, 'weights': 'uniform'}   0.871143  \n",
       "{'n_neighbors': 10, 'p': 2, 'weights': 'distance'}  0.869678  \n",
       "{'n_neighbors': 15, 'p': 1, 'weights': 'uniform'}   0.861239  \n",
       "{'n_neighbors': 15, 'p': 1, 'weights': 'distance'}  0.879961  \n",
       "{'n_neighbors': 15, 'p': 2, 'weights': 'uniform'}   0.848015  \n",
       "{'n_neighbors': 15, 'p': 2, 'weights': 'distance'}  0.862331  \n",
       "{'n_neighbors': 20, 'p': 1, 'weights': 'uniform'}   0.856464  \n",
       "{'n_neighbors': 20, 'p': 1, 'weights': 'distance'}  0.881427  \n",
       "{'n_neighbors': 20, 'p': 2, 'weights': 'uniform'}   0.843242  \n",
       "{'n_neighbors': 20, 'p': 2, 'weights': 'distance'}  0.863067  "
      ]
     },
     "execution_count": 30,
     "metadata": {},
     "output_type": "execute_result"
    }
   ],
   "source": [
    "c1=grid_search.cv_results_['split0_test_score']\n",
    "c2=grid_search.cv_results_['split1_test_score']\n",
    "c3=grid_search.cv_results_['split2_test_score']\n",
    "c4=grid_search.cv_results_['split3_test_score']\n",
    "c5=grid_search.cv_results_['split4_test_score']\n",
    "mean_score=grid_search.cv_results_['mean_test_score']\n",
    "df=pd.DataFrame(zip(c1,c2,c3,c4,c5,mean_score),\n",
    "             columns=['C1','C2','C3','C4','C5','mean_test_score'],\n",
    "             index=grid_search.cv_results_['params'])\n",
    "\n",
    "avg=[sum(i[:-1])/5 for i in df.values]\n",
    "max(avg)\n",
    "df['Average']=avg\n",
    "df"
   ]
  },
  {
   "cell_type": "markdown",
   "id": "17fdf9ac-e7a5-49f2-ba9f-9ccffe5585f4",
   "metadata": {},
   "source": [
    "**step-10 : use best estimator to predict predictions on X_test**\n",
    "\n",
    "- you will get y_test and y_pred"
   ]
  },
  {
   "cell_type": "code",
   "execution_count": 48,
   "id": "97099dea-1232-4cbd-b67a-79f4081915eb",
   "metadata": {},
   "outputs": [
    {
     "data": {
      "text/plain": [
       "array([0, 1, 1, 0, 0, 0, 0, 0, 1, 1, 1, 0, 1, 1, 1, 1, 0, 1, 0, 0, 1, 1,\n",
       "       0, 1, 1, 0, 0, 0, 1, 1, 1, 0, 1, 0, 1, 1, 1, 0, 1, 0, 0, 0, 1, 0,\n",
       "       0, 0, 0, 1, 0, 0, 1, 0, 0, 0, 1, 1, 1, 1, 1, 1, 1, 0, 0, 0, 0, 1,\n",
       "       1, 1, 0, 0, 0, 1, 1, 0, 1, 1, 1, 0, 1, 1, 0, 1, 0, 0, 1, 1, 1, 1,\n",
       "       1, 1, 0, 1, 1, 1, 0, 1, 0, 1, 1, 1, 1, 1, 1, 0, 1, 1, 1, 0, 1, 1,\n",
       "       0, 1, 1, 1, 0, 0, 1, 1, 1, 1, 1, 0, 1, 0, 1, 0, 0, 1, 0, 0, 0, 1,\n",
       "       0, 0, 0, 1, 1, 1, 1, 1, 1, 0, 1, 1, 0, 1, 0, 0, 1, 1, 1, 0, 1, 1,\n",
       "       1, 0, 1, 1, 1, 1, 0, 1, 0, 1, 1, 1, 1, 1, 1, 1, 1, 0, 1, 1, 1, 1,\n",
       "       0, 0, 1, 0, 0, 1, 0, 0, 1, 1, 1, 1, 1, 0, 0, 1, 1, 0, 1, 1, 1, 0,\n",
       "       1, 1, 0, 0, 1, 0, 1, 0, 0, 0, 1, 1, 0, 0, 1, 0, 1, 1, 0, 1, 0, 1,\n",
       "       0, 0, 0, 1, 0, 0, 1, 0, 0, 0, 0, 0, 0, 0, 0, 1, 0, 0, 1, 1, 0, 0,\n",
       "       1, 0, 1, 1, 0, 0, 1, 0, 0, 1, 0, 1, 1, 1, 0, 0, 0, 0, 1, 1, 1, 1,\n",
       "       0, 0, 0, 0, 0, 0, 1, 1, 1, 1, 0, 1, 0, 0, 1, 0, 0, 0, 0, 0, 1, 1,\n",
       "       0, 1, 1, 1, 0, 1, 1, 1, 0, 0, 1, 0, 1, 0, 0, 0, 0, 0, 1, 1, 0, 1,\n",
       "       0, 1, 0, 0, 1, 1, 0, 0, 1, 1, 1, 0, 0, 1, 0, 1, 0, 0, 0, 0, 0, 1,\n",
       "       1, 1, 1, 1, 1, 0, 1, 0, 1, 1, 1, 1, 1, 0, 0, 0, 1, 1, 1, 1, 1, 1,\n",
       "       1, 1, 1, 1, 1, 1, 1, 0, 1, 1, 0, 1, 1, 1, 0, 1, 1, 1, 0, 1, 1, 0,\n",
       "       1, 0, 1, 0, 0, 0, 0, 1, 0, 1, 0, 1, 1, 0, 1, 1, 0, 0, 1, 1, 0, 0,\n",
       "       0, 1, 1, 1, 1, 0, 0, 0, 1, 0, 1, 1, 1, 1, 1, 0, 0, 0, 0, 0, 0, 0,\n",
       "       1, 1, 1, 0, 1, 0, 0, 1, 0, 1, 0, 0, 0, 1, 0, 1, 1, 1, 1, 0, 1, 0,\n",
       "       0, 0, 0, 1, 0, 0, 1, 0, 1, 0, 0, 0, 1, 1, 1, 0, 0, 1, 1, 0, 1, 0,\n",
       "       0, 1, 0, 1, 1, 1, 1, 0, 1, 0, 1, 1, 1, 1, 1, 0, 1, 1, 0, 0, 1, 1,\n",
       "       0, 0, 0, 0, 1, 1, 1, 0, 1, 1, 1, 1, 1, 0, 1, 1, 0, 1, 1, 0, 0, 0,\n",
       "       0, 0, 0, 0, 1, 1, 1, 1, 1, 1, 1, 1, 1, 1, 1, 0, 1, 1, 1, 1, 0, 1,\n",
       "       0, 1, 0, 1, 1, 0, 0, 1, 1, 0, 0, 1, 0, 1, 1, 0, 1, 1, 0, 1, 1, 0,\n",
       "       1, 0, 0, 0, 1, 0, 1, 0, 0, 1, 1, 1, 0, 1, 0, 1, 0, 0, 1, 1, 1, 0,\n",
       "       1, 1, 1, 1, 1, 1, 0, 1, 0, 0, 1, 0, 1, 0, 1, 0, 1, 0, 1, 1, 1, 0,\n",
       "       1, 1, 0, 1, 0, 0, 1, 0, 0, 1, 0, 1, 0, 1, 1, 0, 1, 1, 1, 0, 0, 0,\n",
       "       1, 0, 0, 0, 0, 1, 0, 0, 0, 0, 0, 1, 0, 0, 1, 0, 0, 1, 0, 1, 0, 0,\n",
       "       1, 1, 0, 1, 1, 0, 1, 1, 1, 1, 1, 0, 0, 1, 1, 0, 1, 1, 1, 1, 0, 1,\n",
       "       1, 0, 1, 1, 0, 0, 1, 1, 1, 0, 0, 0, 1, 1, 1, 1, 1, 0, 0, 0, 1, 1],\n",
       "      dtype=int64)"
      ]
     },
     "execution_count": 48,
     "metadata": {},
     "output_type": "execute_result"
    }
   ],
   "source": [
    "y_pred=best_model.predict(X_test)\n",
    "y_pred"
   ]
  },
  {
   "cell_type": "code",
   "execution_count": 32,
   "id": "4697cacc-ecad-4326-a91b-17c4f727e80b",
   "metadata": {},
   "outputs": [
    {
     "data": {
      "text/plain": [
       "(682,)"
      ]
     },
     "execution_count": 32,
     "metadata": {},
     "output_type": "execute_result"
    }
   ],
   "source": [
    "y_pred.shape"
   ]
  },
  {
   "cell_type": "markdown",
   "id": "0501e053-c4bd-4dc5-a84c-bf6d31e27b15",
   "metadata": {},
   "source": [
    "**Step-11 : Now get all metrics**\n",
    "- precision\n",
    "- recall\n",
    "- accuracy\n",
    "- f1 score\n",
    "- roc-auccurve"
   ]
  },
  {
   "cell_type": "code",
   "execution_count": 52,
   "id": "dd7e67f3-8e8b-4c46-8188-79da5aa4eda6",
   "metadata": {},
   "outputs": [
    {
     "name": "stdout",
     "output_type": "stream",
     "text": [
      "Precision is: 0.84\n",
      "Recall is: 0.98\n",
      "Accuracy is: 0.9\n",
      "F1_Score is: 0.9\n"
     ]
    }
   ],
   "source": [
    "from sklearn.metrics import accuracy_score,precision_score,recall_score,f1_score,roc_curve,auc\n",
    "knn_acc=round(accuracy_score(y_test,y_pred),2)\n",
    "knn_pr=round(precision_score(y_test,y_pred),2)\n",
    "knn_rc=round(recall_score(y_test,y_pred),2)\n",
    "knn_f1=round(f1_score(y_test,y_pred),2)\n",
    "\n",
    "print('Precision is:',knn_pr)\n",
    "print('Recall is:',knn_rc)\n",
    "print('Accuracy is:',knn_acc)\n",
    "print('F1_Score is:',knn_f1)"
   ]
  },
  {
   "cell_type": "code",
   "execution_count": 50,
   "id": "bc9ae608-f511-4f39-8441-100eb27523cd",
   "metadata": {},
   "outputs": [
    {
     "data": {
      "text/plain": [
       "array([0.        , 1.        , 1.        , 0.21172658, 0.        ,\n",
       "       0.        , 0.        , 0.        , 1.        , 1.        ,\n",
       "       1.        , 0.        , 1.        , 1.        , 0.57015133,\n",
       "       0.88635024, 0.38618335, 1.        , 0.17910728, 0.36223014,\n",
       "       0.8142059 , 1.        , 0.42363021, 0.60882767, 1.        ,\n",
       "       0.41234477, 0.        , 0.        , 1.        , 1.        ,\n",
       "       1.        , 0.        , 1.        , 0.        , 1.        ,\n",
       "       0.82187661, 1.        , 0.        , 1.        , 0.38311379,\n",
       "       0.        , 0.        , 1.        , 0.        , 0.        ,\n",
       "       0.41498001, 0.        , 1.        , 0.        , 0.37365455,\n",
       "       0.83153621, 0.38595753, 0.        , 0.3874331 , 1.        ,\n",
       "       1.        , 1.        , 1.        , 0.82996262, 1.        ,\n",
       "       1.        , 0.        , 0.        , 0.17667474, 0.        ,\n",
       "       1.        , 0.85151843, 1.        , 0.        , 0.        ,\n",
       "       0.        , 1.        , 1.        , 0.        , 0.60935924,\n",
       "       1.        , 1.        , 0.18671409, 0.61700459, 1.        ,\n",
       "       0.        , 1.        , 0.        , 0.41403245, 1.        ,\n",
       "       0.88255931, 1.        , 1.        , 0.73731899, 1.        ,\n",
       "       0.        , 1.        , 1.        , 1.        , 0.        ,\n",
       "       1.        , 0.39830123, 1.        , 1.        , 1.        ,\n",
       "       1.        , 1.        , 1.        , 0.        , 0.61509466,\n",
       "       1.        , 1.        , 0.38231116, 1.        , 1.        ,\n",
       "       0.2109445 , 1.        , 1.        , 0.82041869, 0.15460614,\n",
       "       0.        , 1.        , 0.7023961 , 1.        , 1.        ,\n",
       "       1.        , 0.        , 1.        , 0.        , 0.90238855,\n",
       "       0.42069623, 0.        , 0.58116224, 0.1742472 , 0.        ,\n",
       "       0.41749371, 0.59529091, 0.        , 0.39428364, 0.        ,\n",
       "       0.50263065, 1.        , 1.        , 0.86673984, 0.56597497,\n",
       "       0.76164835, 0.        , 1.        , 1.        , 0.40128078,\n",
       "       0.80756885, 0.15672357, 0.        , 1.        , 0.95178145,\n",
       "       0.77783284, 0.        , 1.        , 0.59049519, 0.83836194,\n",
       "       0.        , 1.        , 0.61435489, 1.        , 0.86875936,\n",
       "       0.21820418, 1.        , 0.39736941, 1.        , 0.80164344,\n",
       "       1.        , 1.        , 1.        , 1.        , 0.58844631,\n",
       "       0.66232808, 0.        , 0.82599253, 1.        , 1.        ,\n",
       "       1.        , 0.39074731, 0.        , 0.8598352 , 0.        ,\n",
       "       0.        , 0.51520231, 0.        , 0.        , 1.        ,\n",
       "       1.        , 0.77648719, 1.        , 0.94362673, 0.        ,\n",
       "       0.36525027, 1.        , 1.        , 0.        , 1.        ,\n",
       "       0.7987749 , 1.        , 0.        , 1.        , 1.        ,\n",
       "       0.        , 0.37328812, 1.        , 0.        , 1.        ,\n",
       "       0.        , 0.        , 0.        , 1.        , 0.54148914,\n",
       "       0.35813015, 0.17121666, 0.91481975, 0.        , 1.        ,\n",
       "       0.88803914, 0.16475055, 1.        , 0.17537495, 1.        ,\n",
       "       0.        , 0.18374933, 0.        , 1.        , 0.        ,\n",
       "       0.        , 1.        , 0.        , 0.        , 0.19315478,\n",
       "       0.47390562, 0.        , 0.        , 0.44067144, 0.31893517,\n",
       "       1.        , 0.13827868, 0.        , 1.        , 0.85520339,\n",
       "       0.        , 0.        , 1.        , 0.17099929, 1.        ,\n",
       "       1.        , 0.        , 0.        , 1.        , 0.        ,\n",
       "       0.        , 1.        , 0.18645244, 0.5862138 , 1.        ,\n",
       "       1.        , 0.        , 0.        , 0.38255942, 0.35936255,\n",
       "       1.        , 1.        , 1.        , 1.        , 0.1846657 ,\n",
       "       0.        , 0.22873626, 0.        , 0.        , 0.        ,\n",
       "       1.        , 0.79320525, 1.        , 0.88790389, 0.        ,\n",
       "       0.85699243, 0.        , 0.        , 1.        , 0.        ,\n",
       "       0.        , 0.        , 0.        , 0.        , 1.        ,\n",
       "       1.        , 0.18808165, 1.        , 1.        , 1.        ,\n",
       "       0.38769771, 1.        , 1.        , 1.        , 0.33425035,\n",
       "       0.47253931, 1.        , 0.        , 1.        , 0.1657711 ,\n",
       "       0.        , 0.        , 0.39635958, 0.19047689, 1.        ,\n",
       "       1.        , 0.        , 1.        , 0.        , 1.        ,\n",
       "       0.        , 0.        , 0.7873782 , 1.        , 0.37038168,\n",
       "       0.        , 1.        , 1.        , 1.        , 0.        ,\n",
       "       0.15044746, 1.        , 0.1615155 , 0.8110976 , 0.        ,\n",
       "       0.        , 0.        , 0.41386666, 0.        , 1.        ,\n",
       "       1.        , 1.        , 0.8196469 , 1.        , 1.        ,\n",
       "       0.17733805, 0.61956756, 0.        , 0.60676347, 0.60193855,\n",
       "       1.        , 1.        , 0.55229575, 0.18022312, 0.        ,\n",
       "       0.        , 1.        , 1.        , 0.90764117, 0.59290891,\n",
       "       1.        , 1.        , 1.        , 1.        , 1.        ,\n",
       "       0.87720588, 1.        , 1.        , 1.        , 0.39794229,\n",
       "       1.        , 1.        , 0.        , 1.        , 1.        ,\n",
       "       0.6023083 , 0.        , 1.        , 1.        , 1.        ,\n",
       "       0.17838913, 1.        , 1.        , 0.        , 1.        ,\n",
       "       0.        , 1.        , 0.19481097, 0.18354836, 0.17837067,\n",
       "       0.        , 0.59979626, 0.        , 1.        , 0.        ,\n",
       "       1.        , 1.        , 0.        , 1.        , 0.66352983,\n",
       "       0.        , 0.        , 1.        , 0.73680564, 0.38882085,\n",
       "       0.        , 0.16633251, 1.        , 1.        , 1.        ,\n",
       "       0.81708026, 0.18158468, 0.16071783, 0.39644598, 1.        ,\n",
       "       0.        , 1.        , 1.        , 1.        , 1.        ,\n",
       "       1.        , 0.        , 0.19760522, 0.20406741, 0.        ,\n",
       "       0.20289055, 0.19167043, 0.40387783, 1.        , 1.        ,\n",
       "       1.        , 0.        , 0.86209062, 0.        , 0.17754469,\n",
       "       0.80463034, 0.        , 1.        , 0.        , 0.        ,\n",
       "       0.19304831, 1.        , 0.        , 1.        , 1.        ,\n",
       "       1.        , 0.85526615, 0.41630924, 0.76318187, 0.38271452,\n",
       "       0.19447115, 0.38752108, 0.        , 1.        , 0.35958139,\n",
       "       0.        , 1.        , 0.        , 1.        , 0.        ,\n",
       "       0.41798593, 0.        , 1.        , 1.        , 0.64458447,\n",
       "       0.        , 0.        , 0.82358878, 1.        , 0.        ,\n",
       "       1.        , 0.41269762, 0.49983213, 1.        , 0.        ,\n",
       "       1.        , 1.        , 1.        , 0.69393873, 0.        ,\n",
       "       0.63731464, 0.        , 1.        , 1.        , 0.8222356 ,\n",
       "       1.        , 0.51591505, 0.        , 1.        , 1.        ,\n",
       "       0.18844385, 0.        , 1.        , 1.        , 0.        ,\n",
       "       0.18543168, 0.        , 0.2435035 , 1.        , 1.        ,\n",
       "       1.        , 0.37949756, 1.        , 1.        , 1.        ,\n",
       "       0.57926919, 0.80131237, 0.17988807, 1.        , 1.        ,\n",
       "       0.        , 0.78366353, 1.        , 0.        , 0.        ,\n",
       "       0.        , 0.        , 0.        , 0.        , 0.        ,\n",
       "       1.        , 1.        , 0.86099253, 1.        , 1.        ,\n",
       "       0.77839745, 1.        , 1.        , 1.        , 1.        ,\n",
       "       1.        , 0.        , 0.87652821, 0.81364031, 1.        ,\n",
       "       1.        , 0.        , 0.95124838, 0.        , 1.        ,\n",
       "       0.18174852, 1.        , 1.        , 0.        , 0.        ,\n",
       "       0.8282    , 1.        , 0.        , 0.        , 1.        ,\n",
       "       0.        , 0.78944645, 1.        , 0.        , 0.81631371,\n",
       "       0.80675799, 0.        , 1.        , 1.        , 0.        ,\n",
       "       1.        , 0.        , 0.        , 0.        , 1.        ,\n",
       "       0.19163493, 0.73647578, 0.17031917, 0.        , 1.        ,\n",
       "       1.        , 0.57735843, 0.        , 1.        , 0.        ,\n",
       "       1.        , 0.18127346, 0.18556008, 1.        , 1.        ,\n",
       "       1.        , 0.38392342, 1.        , 1.        , 1.        ,\n",
       "       0.83998995, 1.        , 1.        , 0.17234969, 1.        ,\n",
       "       0.        , 0.        , 1.        , 0.1987978 , 1.        ,\n",
       "       0.        , 1.        , 0.        , 0.56210283, 0.        ,\n",
       "       1.        , 1.        , 1.        , 0.        , 1.        ,\n",
       "       0.61201949, 0.        , 1.        , 0.        , 0.        ,\n",
       "       1.        , 0.        , 0.20955974, 0.80139322, 0.18102832,\n",
       "       0.75033804, 0.        , 0.60467001, 1.        , 0.        ,\n",
       "       1.        , 0.8292222 , 1.        , 0.        , 0.        ,\n",
       "       0.20519755, 0.92922157, 0.        , 0.17780759, 0.17400336,\n",
       "       0.        , 1.        , 0.36997575, 0.37253075, 0.18802003,\n",
       "       0.        , 0.22257894, 1.        , 0.19423386, 0.40674602,\n",
       "       1.        , 0.        , 0.18740823, 1.        , 0.        ,\n",
       "       1.        , 0.37482585, 0.        , 1.        , 0.65791741,\n",
       "       0.        , 1.        , 1.        , 0.39565235, 1.        ,\n",
       "       0.7750149 , 1.        , 1.        , 1.        , 0.36953337,\n",
       "       0.17859179, 1.        , 1.        , 0.        , 1.        ,\n",
       "       1.        , 1.        , 1.        , 0.21491927, 1.        ,\n",
       "       0.8990999 , 0.47349248, 0.56558708, 1.        , 0.3698732 ,\n",
       "       0.        , 1.        , 1.        , 1.        , 0.        ,\n",
       "       0.19257315, 0.        , 1.        , 1.        , 1.        ,\n",
       "       1.        , 1.        , 0.37207283, 0.18325247, 0.        ,\n",
       "       1.        , 1.        ])"
      ]
     },
     "execution_count": 50,
     "metadata": {},
     "output_type": "execute_result"
    }
   ],
   "source": [
    "y_predict_prob=best_model.predict_proba(X_test)\n",
    "y_predict_prob_yes=y_predict_prob[:,1] # all the rows from one column\n",
    "y_predict_prob_yes"
   ]
  },
  {
   "cell_type": "code",
   "execution_count": 51,
   "id": "b33b948b-0f41-467b-a17b-078c56477a57",
   "metadata": {},
   "outputs": [
    {
     "data": {
      "text/plain": [
       "<matplotlib.legend.Legend at 0x24c60312a90>"
      ]
     },
     "execution_count": 51,
     "metadata": {},
     "output_type": "execute_result"
    },
    {
     "data": {
      "image/png": "[encoded data removed]",
      "text/plain": [
       "<Figure size 640x480 with 1 Axes>"
      ]
     },
     "metadata": {},
     "output_type": "display_data"
    }
   ],
   "source": [
    "import matplotlib.pyplot as plt\n",
    "fpr,tpr,threshoulds=roc_curve(y_test,y_predict_prob_yes)\n",
    "plt.plot(fpr,tpr,color='blue',label='KNN ROC-AUC curve')\n",
    "plt.plot([0,1],[0,1],color='red',label='Random line')\n",
    "plt.xlabel('False Positive Rate')\n",
    "plt.ylabel('True Positive Rate')\n",
    "plt.title('ROC-CURVE')\n",
    "plt.legend()"
   ]
  },
  {
   "cell_type": "code",
   "execution_count": null,
   "id": "5024fc2d-6ca9-4f16-bfb5-1107e224d3e0",
   "metadata": {},
   "outputs": [],
   "source": []
  }
 ],
 "metadata": {
  "kernelspec": {
   "display_name": "Python 3 (ipykernel)",
   "language": "python",
   "name": "python3"
  },
  "language_info": {
   "codemirror_mode": {
    "name": "ipython",
    "version": 3
   },
   "file_extension": ".py",
   "mimetype": "text/x-python",
   "name": "python",
   "nbconvert_exporter": "python",
   "pygments_lexer": "ipython3",
   "version": "3.11.7"
  }
 },
 "nbformat": 4,
 "nbformat_minor": 5
}
