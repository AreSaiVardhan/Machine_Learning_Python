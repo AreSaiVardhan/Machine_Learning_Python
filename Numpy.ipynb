{
 "cells": [
  {
   "cell_type": "code",
   "execution_count": 1,
   "id": "8a576f1f-442e-41ef-a714-3d4d5cb60672",
   "metadata": {},
   "outputs": [],
   "source": [
    "# today    : Numpy\n",
    "# next sat : pca (principle compound analysis)\n",
    "# next sat : Pyspark with databricks \n",
    "# next sat : docker creation"
   ]
  },
  {
   "cell_type": "code",
   "execution_count": null,
   "id": "dced6ec8-d83b-4299-b89f-c6c0c4b63bb4",
   "metadata": {},
   "outputs": [],
   "source": [
    "- pandas is dataframe analysis\n",
    "\n",
    "- numpy is math analysis\n",
    "\n",
    "- matplotlib is plotting\n",
    "=========================================\n",
    "EDA has only pandas not much numpy\n"
   ]
  },
  {
   "cell_type": "code",
   "execution_count": 4,
   "id": "80e1297a-b90d-45d5-9ea1-9f0938d2fff1",
   "metadata": {},
   "outputs": [],
   "source": [
    "import numpy as np"
   ]
  },
  {
   "cell_type": "code",
   "execution_count": 5,
   "id": "178f7577-05bb-431d-923b-6f2eb2b36fdc",
   "metadata": {},
   "outputs": [
    {
     "data": {
      "text/plain": [
       "'1.26.4'"
      ]
     },
     "execution_count": 5,
     "metadata": {},
     "output_type": "execute_result"
    }
   ],
   "source": [
    "np.__version__"
   ]
  },
  {
   "cell_type": "markdown",
   "id": "d00ad192-d545-4cc2-9dd6-8de1d1ddbdfa",
   "metadata": {},
   "source": [
    "**Difference between normal computation vs Numpy computation**"
   ]
  },
  {
   "cell_type": "code",
   "execution_count": 6,
   "id": "37a0a6d3-d77f-4bc1-8f9b-4811eba43942",
   "metadata": {},
   "outputs": [
    {
     "data": {
      "text/plain": [
       "[1, 2, 3, 4, 10, 20, 30, 40]"
      ]
     },
     "execution_count": 6,
     "metadata": {},
     "output_type": "execute_result"
    }
   ],
   "source": [
    "l1=[1,2,3,4]\n",
    "l2=[10,20,30,40]\n",
    "l1+l2"
   ]
  },
  {
   "cell_type": "code",
   "execution_count": 7,
   "id": "4863191f-eb05-4d63-b019-23151980280c",
   "metadata": {},
   "outputs": [
    {
     "data": {
      "text/plain": [
       "[11, 22, 33, 44]"
      ]
     },
     "execution_count": 7,
     "metadata": {},
     "output_type": "execute_result"
    }
   ],
   "source": [
    "l1=[1,2,3,4]\n",
    "l2=[10,20,30,40]\n",
    "[i+j for i,j in zip(l1,l2)]"
   ]
  },
  {
   "cell_type": "code",
   "execution_count": 8,
   "id": "aa38c00b-e6ce-4a82-a33c-f5dbd758bea4",
   "metadata": {},
   "outputs": [
    {
     "ename": "TypeError",
     "evalue": "can't multiply sequence by non-int of type 'list'",
     "output_type": "error",
     "traceback": [
      "\u001b[1;31m---------------------------------------------------------------------------\u001b[0m",
      "\u001b[1;31mTypeError\u001b[0m                                 Traceback (most recent call last)",
      "Cell \u001b[1;32mIn[8], line 1\u001b[0m\n\u001b[1;32m----> 1\u001b[0m l1\u001b[38;5;241m*\u001b[39ml2\n",
      "\u001b[1;31mTypeError\u001b[0m: can't multiply sequence by non-int of type 'list'"
     ]
    }
   ],
   "source": [
    "l1*l2"
   ]
  },
  {
   "cell_type": "code",
   "execution_count": 9,
   "id": "5a350143-082f-4f19-a949-aa5fdcd90d19",
   "metadata": {},
   "outputs": [
    {
     "data": {
      "text/plain": [
       "[10, 40, 90, 160]"
      ]
     },
     "execution_count": 9,
     "metadata": {},
     "output_type": "execute_result"
    }
   ],
   "source": [
    "l1=[1,2,3,4]\n",
    "l2=[10,20,30,40]\n",
    "[i*j for i,j in zip(l1,l2)]"
   ]
  },
  {
   "cell_type": "code",
   "execution_count": 10,
   "id": "7259464f-cca5-432f-a73d-4f9220002bfd",
   "metadata": {},
   "outputs": [
    {
     "data": {
      "text/plain": [
       "(array([1, 2, 3, 4]), [1, 2, 3, 4])"
      ]
     },
     "execution_count": 10,
     "metadata": {},
     "output_type": "execute_result"
    }
   ],
   "source": [
    "arr1=np.array(l1)\n",
    "arr1,l1"
   ]
  },
  {
   "cell_type": "code",
   "execution_count": 11,
   "id": "02daa5e3-dd01-4ac6-a745-8f595ad75dc7",
   "metadata": {},
   "outputs": [
    {
     "data": {
      "text/plain": [
       "(array([10, 20, 30, 40]), [10, 20, 30, 40])"
      ]
     },
     "execution_count": 11,
     "metadata": {},
     "output_type": "execute_result"
    }
   ],
   "source": [
    "arr2=np.array(l2)\n",
    "arr2,l2"
   ]
  },
  {
   "cell_type": "code",
   "execution_count": 12,
   "id": "5ad0d070-328f-4249-ba13-4e8ff43a53f9",
   "metadata": {},
   "outputs": [
    {
     "data": {
      "text/plain": [
       "array([11, 22, 33, 44])"
      ]
     },
     "execution_count": 12,
     "metadata": {},
     "output_type": "execute_result"
    }
   ],
   "source": [
    "arr1+arr2"
   ]
  },
  {
   "cell_type": "code",
   "execution_count": 13,
   "id": "a5646f94-2382-4248-9dc2-7f043fb9b888",
   "metadata": {},
   "outputs": [
    {
     "data": {
      "text/plain": [
       "array([ 10,  40,  90, 160])"
      ]
     },
     "execution_count": 13,
     "metadata": {},
     "output_type": "execute_result"
    }
   ],
   "source": [
    "arr1*arr2"
   ]
  },
  {
   "cell_type": "code",
   "execution_count": 14,
   "id": "0a7cdb29-2def-4623-928c-e82810f47f85",
   "metadata": {},
   "outputs": [
    {
     "data": {
      "text/plain": [
       "array([ -9, -18, -27, -36])"
      ]
     },
     "execution_count": 14,
     "metadata": {},
     "output_type": "execute_result"
    }
   ],
   "source": [
    "arr1-arr2"
   ]
  },
  {
   "cell_type": "code",
   "execution_count": 15,
   "id": "85c2521f-5760-43c0-9dcb-bc34e95729ee",
   "metadata": {},
   "outputs": [
    {
     "data": {
      "text/plain": [
       "array([0.1, 0.1, 0.1, 0.1])"
      ]
     },
     "execution_count": 15,
     "metadata": {},
     "output_type": "execute_result"
    }
   ],
   "source": [
    "arr1/arr2"
   ]
  },
  {
   "cell_type": "markdown",
   "id": "7dde6fb4-6aeb-4d54-b45a-adf976f7a81c",
   "metadata": {},
   "source": [
    "**Dimensions(**dim**)**"
   ]
  },
  {
   "cell_type": "code",
   "execution_count": 16,
   "id": "28a8263a-b0ba-4d2d-997c-29bc76c18a48",
   "metadata": {},
   "outputs": [
    {
     "data": {
      "text/plain": [
       "(array([1, 2, 3, 4]), 1)"
      ]
     },
     "execution_count": 16,
     "metadata": {},
     "output_type": "execute_result"
    }
   ],
   "source": [
    "l1=[1,2,3,4]\n",
    "arr1=np.array(l1)\n",
    "arr1,arr1.ndim"
   ]
  },
  {
   "cell_type": "code",
   "execution_count": 17,
   "id": "ad653369-205d-4c0d-a6e2-b5ba1b7157a1",
   "metadata": {},
   "outputs": [
    {
     "data": {
      "text/plain": [
       "array([['1', '2', '3', '4'],\n",
       "       ['A', 'B', 'C', 'D']], dtype='<U11')"
      ]
     },
     "execution_count": 17,
     "metadata": {},
     "output_type": "execute_result"
    }
   ],
   "source": [
    "l1=[1,2,3,4]\n",
    "l2=['A','B','C','D']\n",
    "np.array([l1,l2])"
   ]
  },
  {
   "cell_type": "code",
   "execution_count": 18,
   "id": "3553d5b0-39bf-4bcb-b8ab-7cbd833fd88e",
   "metadata": {},
   "outputs": [
    {
     "data": {
      "text/plain": [
       "1"
      ]
     },
     "execution_count": 18,
     "metadata": {},
     "output_type": "execute_result"
    }
   ],
   "source": [
    "arr2.ndim"
   ]
  },
  {
   "cell_type": "code",
   "execution_count": 19,
   "id": "618afa71-3566-48c0-809d-8c00820a23ad",
   "metadata": {},
   "outputs": [
    {
     "name": "stdout",
     "output_type": "stream",
     "text": [
      "[['1' '2' '3' '4']\n",
      " ['A' 'B' 'C' 'D']\n",
      " ['100' '200' '300' '400']]\n",
      "2\n"
     ]
    }
   ],
   "source": [
    "l1=[1,2,3,4]\n",
    "l2=['A','B','C','D']\n",
    "l3=[100,200,300,400]\n",
    "arr2=np.array([l1,l2,l3])\n",
    "print(arr2)\n",
    "print(arr2.ndim)"
   ]
  },
  {
   "cell_type": "code",
   "execution_count": 20,
   "id": "8abaff95-6420-4452-bfad-171eceb67625",
   "metadata": {},
   "outputs": [
    {
     "name": "stdout",
     "output_type": "stream",
     "text": [
      "[1 2 3 4]\n",
      "1\n",
      "(4,)\n"
     ]
    }
   ],
   "source": [
    "arr1=np.array([1,2,3,4])\n",
    "print(arr1)\n",
    "print(arr1.ndim)\n",
    "print(arr1.shape)"
   ]
  },
  {
   "cell_type": "code",
   "execution_count": 21,
   "id": "df263836-56cc-441b-9cc6-4d76140d6209",
   "metadata": {},
   "outputs": [
    {
     "name": "stdout",
     "output_type": "stream",
     "text": [
      "[['1' '2' '3' '4']\n",
      " ['A' 'B' 'C' 'D']]\n",
      "2\n",
      "(2, 4)\n"
     ]
    }
   ],
   "source": [
    "arr2=np.array([[1,2,3,4],['A','B','C','D']])\n",
    "print(arr2)\n",
    "print(arr2.ndim)\n",
    "print(arr2.shape)"
   ]
  },
  {
   "cell_type": "code",
   "execution_count": 22,
   "id": "549fa2f8-48bb-4329-b715-cb06636c6b6a",
   "metadata": {},
   "outputs": [
    {
     "name": "stdout",
     "output_type": "stream",
     "text": [
      "[[['1' '2' '3' '4']\n",
      "  ['A' 'B' 'C' 'D']]]\n",
      "3\n",
      "(1, 2, 4)\n"
     ]
    }
   ],
   "source": [
    "arr3=np.array([[[1,2,3,4],['A','B','C','D']]])\n",
    "print(arr3)\n",
    "print(arr3.ndim)\n",
    "print(arr3.shape)"
   ]
  },
  {
   "cell_type": "code",
   "execution_count": 23,
   "id": "3980b59e-d279-4178-9b5e-a88eb8c485bb",
   "metadata": {},
   "outputs": [
    {
     "name": "stdout",
     "output_type": "stream",
     "text": [
      "[[[['1' '2' '3' '4']\n",
      "   ['A' 'B' 'C' 'D']]]]\n",
      "4\n",
      "(1, 1, 2, 4)\n"
     ]
    }
   ],
   "source": [
    "arr4=np.array([[[[1,2,3,4],['A','B','C','D']]]])\n",
    "print(arr4)\n",
    "print(arr4.ndim)\n",
    "print(arr4.shape)"
   ]
  },
  {
   "cell_type": "code",
   "execution_count": 24,
   "id": "5904a775-5605-4518-80f8-2f5827b6bd4d",
   "metadata": {},
   "outputs": [
    {
     "name": "stdout",
     "output_type": "stream",
     "text": [
      "[[['1' '2' '3' '4']\n",
      "  ['A' 'B' 'C' 'D']\n",
      "  ['1' '2' '3' '4']\n",
      "  ['A' 'B' 'C' 'D']]]\n",
      "3\n",
      "(1, 4, 4)\n"
     ]
    }
   ],
   "source": [
    "arr5=np.array([[\n",
    "                [1,2,3,4],['A','B','C','D'],\n",
    "                 [1,2,3,4],['A','B','C','D']\n",
    "                   ]])\n",
    "print(arr5)\n",
    "print(arr5.ndim)\n",
    "print(arr5.shape)"
   ]
  },
  {
   "cell_type": "code",
   "execution_count": 25,
   "id": "be120629-d2eb-4efd-9bc8-a136b106d510",
   "metadata": {},
   "outputs": [
    {
     "name": "stdout",
     "output_type": "stream",
     "text": [
      "total time:2.720616340637207\n"
     ]
    }
   ],
   "source": [
    "import time\n",
    "start=time.time()\n",
    "l1=[i for i in range(10000000)]\n",
    "l2=[i for i in range(10000000)]\n",
    "sum([i*j for i,j in zip(l1,l2)])\n",
    "end=time.time()\n",
    "print(f'total time:{end-start}')"
   ]
  },
  {
   "cell_type": "markdown",
   "id": "026a073e-35e8-4d9c-a7e4-b00f1f205ce6",
   "metadata": {},
   "source": [
    "**np.arrange**"
   ]
  },
  {
   "cell_type": "code",
   "execution_count": 26,
   "id": "124d33a1-824f-4a96-8cfe-d5c7719e15e8",
   "metadata": {},
   "outputs": [
    {
     "data": {
      "text/plain": [
       "(array([0, 1, 2, 3, 4, 5, 6, 7, 8, 9]), [0, 1, 2, 3, 4, 5, 6, 7, 8, 9])"
      ]
     },
     "execution_count": 26,
     "metadata": {},
     "output_type": "execute_result"
    }
   ],
   "source": [
    "np.arange(10),[i for i in range(10)]"
   ]
  },
  {
   "cell_type": "code",
   "execution_count": 27,
   "id": "fb7a64f8-f001-407d-8373-68ff0fa2ab95",
   "metadata": {},
   "outputs": [
    {
     "data": {
      "text/plain": [
       "array([      0,       1,       2, ..., 9999997, 9999998, 9999999])"
      ]
     },
     "execution_count": 27,
     "metadata": {},
     "output_type": "execute_result"
    }
   ],
   "source": [
    "np.arange(10000000)"
   ]
  },
  {
   "cell_type": "code",
   "execution_count": 38,
   "id": "8fea445f-349c-46f8-a2a0-4fbe56db57bf",
   "metadata": {},
   "outputs": [
    {
     "name": "stdout",
     "output_type": "stream",
     "text": [
      "total time:0.06134223937988281\n"
     ]
    }
   ],
   "source": [
    "np.arange(10000000)\n",
    "import time\n",
    "start=time.time()\n",
    "arr1=np.arange(10000000)\n",
    "arr2=np.arange(10000000)\n",
    "np.sum(arr1*arr2)\n",
    "end=time.time()\n",
    "print(f'total time:{end-start}')"
   ]
  },
  {
   "cell_type": "markdown",
   "id": "03f1271b-a029-4f76-b8b1-750913da66b4",
   "metadata": {},
   "source": [
    "- np.ones\n",
    "\n",
    "- np.zeros\n",
    "\n",
    "- np.random.rand\n",
    "\n",
    "- np.full\n",
    "\n",
    "- np.random.randint"
   ]
  },
  {
   "cell_type": "code",
   "execution_count": 40,
   "id": "58ee1ec6-66af-4401-a26f-d70683eee5d0",
   "metadata": {},
   "outputs": [
    {
     "data": {
      "text/plain": [
       "array([1., 1., 1.])"
      ]
     },
     "execution_count": 40,
     "metadata": {},
     "output_type": "execute_result"
    }
   ],
   "source": [
    "np.ones(3)\n",
    "# shape(1,2) always tuple() (rows,columns)"
   ]
  },
  {
   "cell_type": "code",
   "execution_count": 41,
   "id": "5820d005-5b36-4653-b9cf-a3cba7dee244",
   "metadata": {},
   "outputs": [
    {
     "data": {
      "text/plain": [
       "array([[1., 1., 1.],\n",
       "       [1., 1., 1.]])"
      ]
     },
     "execution_count": 41,
     "metadata": {},
     "output_type": "execute_result"
    }
   ],
   "source": [
    "np.ones(shape=(2,3))"
   ]
  },
  {
   "cell_type": "code",
   "execution_count": 42,
   "id": "01d087f9-7790-439d-85ee-9f410c536a43",
   "metadata": {},
   "outputs": [
    {
     "data": {
      "text/plain": [
       "array([[1., 1., 1.],\n",
       "       [1., 1., 1.]])"
      ]
     },
     "execution_count": 42,
     "metadata": {},
     "output_type": "execute_result"
    }
   ],
   "source": [
    "np.ones((2,3))"
   ]
  },
  {
   "cell_type": "code",
   "execution_count": 43,
   "id": "377a432a-131b-4aeb-8ced-c00b05bb7834",
   "metadata": {},
   "outputs": [
    {
     "data": {
      "text/plain": [
       "array([[0., 0.],\n",
       "       [0., 0.],\n",
       "       [0., 0.]])"
      ]
     },
     "execution_count": 43,
     "metadata": {},
     "output_type": "execute_result"
    }
   ],
   "source": [
    "np.zeros((3,2))"
   ]
  },
  {
   "cell_type": "code",
   "execution_count": 47,
   "id": "24edc5fa-f706-434f-9f1f-e39d684260ac",
   "metadata": {},
   "outputs": [
    {
     "data": {
      "text/plain": [
       "array([[0., 0., 0., 0., 0.],\n",
       "       [0., 0., 0., 0., 0.],\n",
       "       [0., 0., 0., 0., 0.],\n",
       "       [0., 0., 0., 0., 0.],\n",
       "       [0., 0., 0., 0., 0.]])"
      ]
     },
     "execution_count": 47,
     "metadata": {},
     "output_type": "execute_result"
    }
   ],
   "source": [
    "np.zeros((5,5))"
   ]
  },
  {
   "cell_type": "code",
   "execution_count": 44,
   "id": "5104dc81-4ecf-4874-805c-9e36eb97270f",
   "metadata": {},
   "outputs": [
    {
     "data": {
      "text/plain": [
       "array([[5, 5],\n",
       "       [5, 5],\n",
       "       [5, 5]])"
      ]
     },
     "execution_count": 44,
     "metadata": {},
     "output_type": "execute_result"
    }
   ],
   "source": [
    "np.full((3,2),5)"
   ]
  },
  {
   "cell_type": "code",
   "execution_count": 49,
   "id": "415e0b77-38e1-4b57-8e70-6c7a67fc8cb9",
   "metadata": {},
   "outputs": [
    {
     "data": {
      "text/plain": [
       "array([[6, 6, 6, 6],\n",
       "       [6, 6, 6, 6],\n",
       "       [6, 6, 6, 6],\n",
       "       [6, 6, 6, 6]])"
      ]
     },
     "execution_count": 49,
     "metadata": {},
     "output_type": "execute_result"
    }
   ],
   "source": [
    "np.full((4,4),6)"
   ]
  },
  {
   "cell_type": "code",
   "execution_count": 50,
   "id": "03a0176b-a829-4dee-a112-085e4f152464",
   "metadata": {},
   "outputs": [
    {
     "data": {
      "text/plain": [
       "array([[25, 58, 42],\n",
       "       [95, 83, 47],\n",
       "       [75, 81, 32]])"
      ]
     },
     "execution_count": 50,
     "metadata": {},
     "output_type": "execute_result"
    }
   ],
   "source": [
    "np.random.randint(1,100,(3,3))"
   ]
  },
  {
   "cell_type": "code",
   "execution_count": 52,
   "id": "a98b6db9-2af9-4a8c-adbf-478190aa679c",
   "metadata": {},
   "outputs": [
    {
     "data": {
      "text/plain": [
       "array([[0.80868252, 0.44254936, 0.91151264],\n",
       "       [0.77371899, 0.52096528, 0.48279998],\n",
       "       [0.2488811 , 0.81757242, 0.91077708]])"
      ]
     },
     "execution_count": 52,
     "metadata": {},
     "output_type": "execute_result"
    }
   ],
   "source": [
    "np.random.rand(3,3)"
   ]
  },
  {
   "cell_type": "code",
   "execution_count": null,
   "id": "9c7ccae5-8733-4cbc-99f7-4ecbac2c4ab1",
   "metadata": {},
   "outputs": [],
   "source": []
  }
 ],
 "metadata": {
  "kernelspec": {
   "display_name": "Python 3 (ipykernel)",
   "language": "python",
   "name": "python3"
  },
  "language_info": {
   "codemirror_mode": {
    "name": "ipython",
    "version": 3
   },
   "file_extension": ".py",
   "mimetype": "text/x-python",
   "name": "python",
   "nbconvert_exporter": "python",
   "pygments_lexer": "ipython3",
   "version": "3.11.7"
  }
 },
 "nbformat": 4,
 "nbformat_minor": 5
}
